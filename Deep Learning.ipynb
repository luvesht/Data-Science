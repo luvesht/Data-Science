{
 "cells": [
  {
   "cell_type": "markdown",
   "metadata": {},
   "source": [
    "### Assignment 4: Deep Learning\n",
    "\n",
    "Deep Learning is a subfield of machine learning concerned with algorithms inspired by the structure and function of the brain called artificial neural networks."
   ]
  },
  {
   "cell_type": "markdown",
   "metadata": {},
   "source": [
    "### Recurrent neural network (RNN) on Keras:\n",
    "The most commonly used neural network for predicting time series data is Recurrent neural network (RNN) on Keras.\n",
    "\n",
    "The recurrent neural network (RNN) is a type of artificial neural network with self-loop in its hidden layer(s), which enables RNN to use the previous state of the hidden neuron(s) to learn the current state given the new input. RNN is good at processing sequential data. Long short-term memory (LSTM) cell is a specially designed working unit that helps RNN better memorize the long-term context."
   ]
  },
  {
   "cell_type": "code",
   "execution_count": null,
   "metadata": {},
   "outputs": [
    {
     "name": "stdout",
     "output_type": "stream",
     "text": [
      "Requirement already satisfied: keras in c:\\program files\\anaconda3\\lib\\site-packages\n",
      "Requirement already satisfied: numpy>=1.9.1 in c:\\program files\\anaconda3\\lib\\site-packages (from keras)\n",
      "Requirement already satisfied: six>=1.9.0 in c:\\program files\\anaconda3\\lib\\site-packages (from keras)\n",
      "Requirement already satisfied: scipy>=0.14 in c:\\program files\\anaconda3\\lib\\site-packages (from keras)\n",
      "Requirement already satisfied: pyyaml in c:\\program files\\anaconda3\\lib\\site-packages (from keras)\n"
     ]
    },
    {
     "name": "stderr",
     "output_type": "stream",
     "text": [
      "You are using pip version 9.0.1, however version 10.0.0 is available.\n",
      "You should consider upgrading via the 'python -m pip install --upgrade pip' command.\n"
     ]
    }
   ],
   "source": [
    "!pip install keras"
   ]
  },
  {
   "cell_type": "code",
   "execution_count": null,
   "metadata": {},
   "outputs": [
    {
     "name": "stderr",
     "output_type": "stream",
     "text": [
      "Using TensorFlow backend.\n"
     ]
    }
   ],
   "source": [
    "import numpy as np\n",
    "import pandas as pd\n",
    "import matplotlib.pyplot as plt\n",
    "from pandas import datetime\n",
    "import math, time\n",
    "import itertools\n",
    "from sklearn import preprocessing\n",
    "import datetime\n",
    "from operator import itemgetter\n",
    "from sklearn.metrics import mean_squared_error\n",
    "from math import sqrt\n",
    "from keras.models import Sequential\n",
    "from keras.layers.core import Dense, Dropout, Activation\n",
    "from keras.layers.recurrent import LSTM\n",
    "from keras.models import load_model\n",
    "import keras\n",
    "import h5py\n",
    "import requests\n",
    "import os"
   ]
  },
  {
   "cell_type": "code",
   "execution_count": null,
   "metadata": {},
   "outputs": [],
   "source": [
    "#read csv\n",
    "df = pd.read_csv('prices-split-adjusted (1).csv',index_col=0)"
   ]
  },
  {
   "cell_type": "code",
   "execution_count": 3,
   "metadata": {},
   "outputs": [
    {
     "data": {
      "text/html": [
       "<div>\n",
       "<style>\n",
       "    .dataframe thead tr:only-child th {\n",
       "        text-align: right;\n",
       "    }\n",
       "\n",
       "    .dataframe thead th {\n",
       "        text-align: left;\n",
       "    }\n",
       "\n",
       "    .dataframe tbody tr th {\n",
       "        vertical-align: top;\n",
       "    }\n",
       "</style>\n",
       "<table border=\"1\" class=\"dataframe\">\n",
       "  <thead>\n",
       "    <tr style=\"text-align: right;\">\n",
       "      <th></th>\n",
       "      <th>symbol</th>\n",
       "      <th>open</th>\n",
       "      <th>close</th>\n",
       "      <th>low</th>\n",
       "      <th>high</th>\n",
       "      <th>volume</th>\n",
       "    </tr>\n",
       "    <tr>\n",
       "      <th>date</th>\n",
       "      <th></th>\n",
       "      <th></th>\n",
       "      <th></th>\n",
       "      <th></th>\n",
       "      <th></th>\n",
       "      <th></th>\n",
       "    </tr>\n",
       "  </thead>\n",
       "  <tbody>\n",
       "    <tr>\n",
       "      <th>2016-01-05</th>\n",
       "      <td>WLTW</td>\n",
       "      <td>123.430000</td>\n",
       "      <td>125.839996</td>\n",
       "      <td>122.309998</td>\n",
       "      <td>126.250000</td>\n",
       "      <td>2163600.0</td>\n",
       "    </tr>\n",
       "    <tr>\n",
       "      <th>2016-01-06</th>\n",
       "      <td>WLTW</td>\n",
       "      <td>125.239998</td>\n",
       "      <td>119.980003</td>\n",
       "      <td>119.940002</td>\n",
       "      <td>125.540001</td>\n",
       "      <td>2386400.0</td>\n",
       "    </tr>\n",
       "    <tr>\n",
       "      <th>2016-01-07</th>\n",
       "      <td>WLTW</td>\n",
       "      <td>116.379997</td>\n",
       "      <td>114.949997</td>\n",
       "      <td>114.930000</td>\n",
       "      <td>119.739998</td>\n",
       "      <td>2489500.0</td>\n",
       "    </tr>\n",
       "    <tr>\n",
       "      <th>2016-01-08</th>\n",
       "      <td>WLTW</td>\n",
       "      <td>115.480003</td>\n",
       "      <td>116.620003</td>\n",
       "      <td>113.500000</td>\n",
       "      <td>117.440002</td>\n",
       "      <td>2006300.0</td>\n",
       "    </tr>\n",
       "    <tr>\n",
       "      <th>2016-01-11</th>\n",
       "      <td>WLTW</td>\n",
       "      <td>117.010002</td>\n",
       "      <td>114.970001</td>\n",
       "      <td>114.089996</td>\n",
       "      <td>117.330002</td>\n",
       "      <td>1408600.0</td>\n",
       "    </tr>\n",
       "  </tbody>\n",
       "</table>\n",
       "</div>"
      ],
      "text/plain": [
       "           symbol        open       close         low        high     volume\n",
       "date                                                                        \n",
       "2016-01-05   WLTW  123.430000  125.839996  122.309998  126.250000  2163600.0\n",
       "2016-01-06   WLTW  125.239998  119.980003  119.940002  125.540001  2386400.0\n",
       "2016-01-07   WLTW  116.379997  114.949997  114.930000  119.739998  2489500.0\n",
       "2016-01-08   WLTW  115.480003  116.620003  113.500000  117.440002  2006300.0\n",
       "2016-01-11   WLTW  117.010002  114.970001  114.089996  117.330002  1408600.0"
      ]
     },
     "execution_count": 3,
     "metadata": {},
     "output_type": "execute_result"
    }
   ],
   "source": [
    "df.head()"
   ]
  },
  {
   "cell_type": "code",
   "execution_count": 4,
   "metadata": {},
   "outputs": [
    {
     "data": {
      "text/html": [
       "<div>\n",
       "<style>\n",
       "    .dataframe thead tr:only-child th {\n",
       "        text-align: right;\n",
       "    }\n",
       "\n",
       "    .dataframe thead th {\n",
       "        text-align: left;\n",
       "    }\n",
       "\n",
       "    .dataframe tbody tr th {\n",
       "        vertical-align: top;\n",
       "    }\n",
       "</style>\n",
       "<table border=\"1\" class=\"dataframe\">\n",
       "  <thead>\n",
       "    <tr style=\"text-align: right;\">\n",
       "      <th></th>\n",
       "      <th>symbol</th>\n",
       "      <th>open</th>\n",
       "      <th>low</th>\n",
       "      <th>high</th>\n",
       "      <th>volume</th>\n",
       "      <th>adj close</th>\n",
       "    </tr>\n",
       "    <tr>\n",
       "      <th>date</th>\n",
       "      <th></th>\n",
       "      <th></th>\n",
       "      <th></th>\n",
       "      <th></th>\n",
       "      <th></th>\n",
       "      <th></th>\n",
       "    </tr>\n",
       "  </thead>\n",
       "  <tbody>\n",
       "    <tr>\n",
       "      <th>2016-01-05</th>\n",
       "      <td>WLTW</td>\n",
       "      <td>123.430000</td>\n",
       "      <td>122.309998</td>\n",
       "      <td>126.250000</td>\n",
       "      <td>2163600.0</td>\n",
       "      <td>125.839996</td>\n",
       "    </tr>\n",
       "    <tr>\n",
       "      <th>2016-01-06</th>\n",
       "      <td>WLTW</td>\n",
       "      <td>125.239998</td>\n",
       "      <td>119.940002</td>\n",
       "      <td>125.540001</td>\n",
       "      <td>2386400.0</td>\n",
       "      <td>119.980003</td>\n",
       "    </tr>\n",
       "    <tr>\n",
       "      <th>2016-01-07</th>\n",
       "      <td>WLTW</td>\n",
       "      <td>116.379997</td>\n",
       "      <td>114.930000</td>\n",
       "      <td>119.739998</td>\n",
       "      <td>2489500.0</td>\n",
       "      <td>114.949997</td>\n",
       "    </tr>\n",
       "    <tr>\n",
       "      <th>2016-01-08</th>\n",
       "      <td>WLTW</td>\n",
       "      <td>115.480003</td>\n",
       "      <td>113.500000</td>\n",
       "      <td>117.440002</td>\n",
       "      <td>2006300.0</td>\n",
       "      <td>116.620003</td>\n",
       "    </tr>\n",
       "    <tr>\n",
       "      <th>2016-01-11</th>\n",
       "      <td>WLTW</td>\n",
       "      <td>117.010002</td>\n",
       "      <td>114.089996</td>\n",
       "      <td>117.330002</td>\n",
       "      <td>1408600.0</td>\n",
       "      <td>114.970001</td>\n",
       "    </tr>\n",
       "  </tbody>\n",
       "</table>\n",
       "</div>"
      ],
      "text/plain": [
       "           symbol        open         low        high     volume   adj close\n",
       "date                                                                        \n",
       "2016-01-05   WLTW  123.430000  122.309998  126.250000  2163600.0  125.839996\n",
       "2016-01-06   WLTW  125.239998  119.940002  125.540001  2386400.0  119.980003\n",
       "2016-01-07   WLTW  116.379997  114.930000  119.739998  2489500.0  114.949997\n",
       "2016-01-08   WLTW  115.480003  113.500000  117.440002  2006300.0  116.620003\n",
       "2016-01-11   WLTW  117.010002  114.089996  117.330002  1408600.0  114.970001"
      ]
     },
     "execution_count": 4,
     "metadata": {},
     "output_type": "execute_result"
    }
   ],
   "source": [
    "df['adj close'] = df['close']\n",
    "df.drop(['close'], 1, inplace=True)\n",
    "df.head()"
   ]
  },
  {
   "cell_type": "markdown",
   "metadata": {},
   "source": [
    "### Analyze stock data for Apple(AAPL):"
   ]
  },
  {
   "cell_type": "code",
   "execution_count": 5,
   "metadata": {},
   "outputs": [
    {
     "data": {
      "text/html": [
       "<div>\n",
       "<style>\n",
       "    .dataframe thead tr:only-child th {\n",
       "        text-align: right;\n",
       "    }\n",
       "\n",
       "    .dataframe thead th {\n",
       "        text-align: left;\n",
       "    }\n",
       "\n",
       "    .dataframe tbody tr th {\n",
       "        vertical-align: top;\n",
       "    }\n",
       "</style>\n",
       "<table border=\"1\" class=\"dataframe\">\n",
       "  <thead>\n",
       "    <tr style=\"text-align: right;\">\n",
       "      <th></th>\n",
       "      <th>open</th>\n",
       "      <th>low</th>\n",
       "      <th>high</th>\n",
       "      <th>volume</th>\n",
       "      <th>adj close</th>\n",
       "    </tr>\n",
       "    <tr>\n",
       "      <th>date</th>\n",
       "      <th></th>\n",
       "      <th></th>\n",
       "      <th></th>\n",
       "      <th></th>\n",
       "      <th></th>\n",
       "    </tr>\n",
       "  </thead>\n",
       "  <tbody>\n",
       "    <tr>\n",
       "      <th>2010-01-04</th>\n",
       "      <td>30.490000</td>\n",
       "      <td>30.340000</td>\n",
       "      <td>30.642857</td>\n",
       "      <td>123432400.0</td>\n",
       "      <td>30.572857</td>\n",
       "    </tr>\n",
       "    <tr>\n",
       "      <th>2010-01-05</th>\n",
       "      <td>30.657143</td>\n",
       "      <td>30.464285</td>\n",
       "      <td>30.798571</td>\n",
       "      <td>150476200.0</td>\n",
       "      <td>30.625713</td>\n",
       "    </tr>\n",
       "    <tr>\n",
       "      <th>2010-01-06</th>\n",
       "      <td>30.625713</td>\n",
       "      <td>30.107143</td>\n",
       "      <td>30.747143</td>\n",
       "      <td>138040000.0</td>\n",
       "      <td>30.138571</td>\n",
       "    </tr>\n",
       "    <tr>\n",
       "      <th>2010-01-07</th>\n",
       "      <td>30.250000</td>\n",
       "      <td>29.864286</td>\n",
       "      <td>30.285715</td>\n",
       "      <td>119282800.0</td>\n",
       "      <td>30.082857</td>\n",
       "    </tr>\n",
       "    <tr>\n",
       "      <th>2010-01-08</th>\n",
       "      <td>30.042856</td>\n",
       "      <td>29.865715</td>\n",
       "      <td>30.285715</td>\n",
       "      <td>111902700.0</td>\n",
       "      <td>30.282858</td>\n",
       "    </tr>\n",
       "  </tbody>\n",
       "</table>\n",
       "</div>"
      ],
      "text/plain": [
       "                 open        low       high       volume  adj close\n",
       "date                                                               \n",
       "2010-01-04  30.490000  30.340000  30.642857  123432400.0  30.572857\n",
       "2010-01-05  30.657143  30.464285  30.798571  150476200.0  30.625713\n",
       "2010-01-06  30.625713  30.107143  30.747143  138040000.0  30.138571\n",
       "2010-01-07  30.250000  29.864286  30.285715  119282800.0  30.082857\n",
       "2010-01-08  30.042856  29.865715  30.285715  111902700.0  30.282858"
      ]
     },
     "execution_count": 5,
     "metadata": {},
     "output_type": "execute_result"
    }
   ],
   "source": [
    "df = df[df.symbol == 'AAPL']\n",
    "df.drop(['symbol'],1,inplace=True)\n",
    "df.head()"
   ]
  },
  {
   "cell_type": "markdown",
   "metadata": {},
   "source": [
    "### Normalize data:"
   ]
  },
  {
   "cell_type": "code",
   "execution_count": 6,
   "metadata": {},
   "outputs": [
    {
     "data": {
      "text/html": [
       "<div>\n",
       "<style>\n",
       "    .dataframe thead tr:only-child th {\n",
       "        text-align: right;\n",
       "    }\n",
       "\n",
       "    .dataframe thead th {\n",
       "        text-align: left;\n",
       "    }\n",
       "\n",
       "    .dataframe tbody tr th {\n",
       "        vertical-align: top;\n",
       "    }\n",
       "</style>\n",
       "<table border=\"1\" class=\"dataframe\">\n",
       "  <thead>\n",
       "    <tr style=\"text-align: right;\">\n",
       "      <th></th>\n",
       "      <th>open</th>\n",
       "      <th>low</th>\n",
       "      <th>high</th>\n",
       "      <th>volume</th>\n",
       "      <th>adj close</th>\n",
       "    </tr>\n",
       "    <tr>\n",
       "      <th>date</th>\n",
       "      <th></th>\n",
       "      <th></th>\n",
       "      <th></th>\n",
       "      <th></th>\n",
       "      <th></th>\n",
       "    </tr>\n",
       "  </thead>\n",
       "  <tbody>\n",
       "    <tr>\n",
       "      <th>2010-01-04</th>\n",
       "      <td>0.028123</td>\n",
       "      <td>0.030334</td>\n",
       "      <td>0.024806</td>\n",
       "      <td>0.244034</td>\n",
       "      <td>0.029718</td>\n",
       "    </tr>\n",
       "    <tr>\n",
       "      <th>2010-01-05</th>\n",
       "      <td>0.029686</td>\n",
       "      <td>0.031526</td>\n",
       "      <td>0.026268</td>\n",
       "      <td>0.302982</td>\n",
       "      <td>0.030219</td>\n",
       "    </tr>\n",
       "    <tr>\n",
       "      <th>2010-01-06</th>\n",
       "      <td>0.029392</td>\n",
       "      <td>0.028100</td>\n",
       "      <td>0.025785</td>\n",
       "      <td>0.275875</td>\n",
       "      <td>0.025604</td>\n",
       "    </tr>\n",
       "    <tr>\n",
       "      <th>2010-01-07</th>\n",
       "      <td>0.025880</td>\n",
       "      <td>0.025769</td>\n",
       "      <td>0.021454</td>\n",
       "      <td>0.234989</td>\n",
       "      <td>0.025076</td>\n",
       "    </tr>\n",
       "    <tr>\n",
       "      <th>2010-01-08</th>\n",
       "      <td>0.023943</td>\n",
       "      <td>0.025783</td>\n",
       "      <td>0.021454</td>\n",
       "      <td>0.218903</td>\n",
       "      <td>0.026971</td>\n",
       "    </tr>\n",
       "  </tbody>\n",
       "</table>\n",
       "</div>"
      ],
      "text/plain": [
       "                open       low      high    volume  adj close\n",
       "date                                                         \n",
       "2010-01-04  0.028123  0.030334  0.024806  0.244034   0.029718\n",
       "2010-01-05  0.029686  0.031526  0.026268  0.302982   0.030219\n",
       "2010-01-06  0.029392  0.028100  0.025785  0.275875   0.025604\n",
       "2010-01-07  0.025880  0.025769  0.021454  0.234989   0.025076\n",
       "2010-01-08  0.023943  0.025783  0.021454  0.218903   0.026971"
      ]
     },
     "execution_count": 6,
     "metadata": {},
     "output_type": "execute_result"
    }
   ],
   "source": [
    "def normalize_data(df):\n",
    "    min_max_scaler = preprocessing.MinMaxScaler()\n",
    "    df['open'] = min_max_scaler.fit_transform(df.open.values.reshape(-1,1))\n",
    "    df['high'] = min_max_scaler.fit_transform(df.high.values.reshape(-1,1))\n",
    "    df['low'] = min_max_scaler.fit_transform(df.low.values.reshape(-1,1))\n",
    "    df['volume'] = min_max_scaler.fit_transform(df.volume.values.reshape(-1,1))\n",
    "    df['adj close'] = min_max_scaler.fit_transform(df['adj close'].values.reshape(-1,1))\n",
    "    return df\n",
    "df = normalize_data(df)\n",
    "df.head()"
   ]
  },
  {
   "cell_type": "code",
   "execution_count": 7,
   "metadata": {
    "collapsed": true
   },
   "outputs": [],
   "source": [
    "def load_data(stock, seq_len):\n",
    "    amount_of_features = len(stock.columns) # 5\n",
    "    data = stock.as_matrix() \n",
    "    sequence_length = seq_len + 1 # index starting from 0\n",
    "    result = []\n",
    "    \n",
    "    for index in range(len(data) - sequence_length): # maxmimum date = lastest date - sequence length\n",
    "        result.append(data[index: index + sequence_length]) # index : index + 22days\n",
    "    \n",
    "    result = np.array(result)\n",
    "    row = round(0.9 * result.shape[0]) # 90% split\n",
    "    train = result[:int(row), :] # 90% date, all features \n",
    "    \n",
    "    x_train = train[:, :-1] \n",
    "    y_train = train[:, -1][:,-1]\n",
    "    \n",
    "    x_test = result[int(row):, :-1] \n",
    "    y_test = result[int(row):, -1][:,-1]\n",
    "\n",
    "    x_train = np.reshape(x_train, (x_train.shape[0], x_train.shape[1], amount_of_features))\n",
    "    x_test = np.reshape(x_test, (x_test.shape[0], x_test.shape[1], amount_of_features))  \n",
    "\n",
    "    return [x_train, y_train, x_test, y_test]"
   ]
  },
  {
   "cell_type": "markdown",
   "metadata": {},
   "source": [
    "### Build model:"
   ]
  },
  {
   "cell_type": "code",
   "execution_count": 8,
   "metadata": {
    "collapsed": true
   },
   "outputs": [],
   "source": [
    "def build_model(layers):\n",
    "    d = 0.3\n",
    "    model = Sequential()\n",
    "    \n",
    "    model.add(LSTM(256, input_shape=(layers[1], layers[0]), return_sequences=True))\n",
    "    model.add(Dropout(d))\n",
    "        \n",
    "    model.add(LSTM(256, input_shape=(layers[1], layers[0]), return_sequences=False))\n",
    "    model.add(Dropout(d))\n",
    "        \n",
    "    model.add(Dense(32,kernel_initializer=\"uniform\",activation='relu'))        \n",
    "    model.add(Dense(1,kernel_initializer=\"uniform\",activation='linear'))\n",
    "        \n",
    "    start = time.time()\n",
    "    model.compile(loss='mse',optimizer='adam', metrics=['accuracy'])\n",
    "    print(\"Compilation Time : \", time.time() - start)\n",
    "    return model"
   ]
  },
  {
   "cell_type": "markdown",
   "metadata": {},
   "source": [
    "### Fit test and train data:"
   ]
  },
  {
   "cell_type": "code",
   "execution_count": 9,
   "metadata": {},
   "outputs": [
    {
     "name": "stdout",
     "output_type": "stream",
     "text": [
      "[[  2.81231215e-02   3.03337678e-02   2.48062394e-02   2.44034312e-01\n",
      "    2.97178362e-02]\n",
      " [  2.96855171e-02   3.15262743e-02   2.62677938e-02   3.02982342e-01\n",
      "    3.02185399e-02]\n",
      " [  2.93917266e-02   2.80995178e-02   2.57850858e-02   2.75874854e-01\n",
      "    2.56038867e-02]\n",
      " [  2.58796844e-02   2.57693155e-02   2.14540576e-02   2.34989328e-01\n",
      "    2.50761176e-02]\n",
      " [  2.39433742e-02   2.57830226e-02   2.14540576e-02   2.18902744e-01\n",
      "    2.69707045e-02]\n",
      " [  2.72818302e-02   2.49468907e-02   2.27949303e-02   2.26868983e-01\n",
      "    2.44400840e-02]\n",
      " [  2.24611028e-02   2.21643437e-02   1.84638847e-02   2.98925222e-01\n",
      "    2.12057623e-02]\n",
      " [  2.06984135e-02   1.89843011e-02   2.00193033e-02   3.05155092e-01\n",
      "    2.51708493e-02]\n",
      " [  2.36896638e-02   2.57281929e-02   1.93890932e-02   2.10883102e-01\n",
      "    2.35198553e-02]\n",
      " [  2.47846654e-02   2.14104557e-02   2.09176943e-02   2.98711609e-01\n",
      "    1.87834049e-02]\n",
      " [  2.13126846e-02   2.32883326e-02   2.57314493e-02   3.72789542e-01\n",
      "    3.11117019e-02]\n",
      " [  3.00994958e-02   2.63861300e-02   2.62141587e-02   3.08566796e-01\n",
      "    2.66323798e-02]\n",
      " [  2.63203520e-02   2.32472100e-02   2.32105945e-02   3.06387944e-01\n",
      "    2.16794006e-02]\n",
      " [  1.92428497e-02   9.47158991e-03   1.54200927e-02   4.55488284e-01\n",
      "    7.71364371e-03]\n",
      " [  1.35407682e-02   1.36248381e-02   1.16656381e-02   5.55718551e-01\n",
      "    1.49130510e-02]\n",
      " [  1.81344769e-02   1.69008330e-02   2.37469578e-02   9.92431997e-01\n",
      "    1.87969390e-02]\n",
      " [  1.93363117e-02   1.27201694e-02   1.95500026e-02   9.13666785e-01\n",
      "    2.14222912e-02]\n",
      " [  1.67723925e-02   1.15824735e-02   1.27383473e-02   6.14463648e-01\n",
      "    9.79767512e-03]\n",
      " [  1.16311656e-02   0.00000000e+00   8.31343748e-03   6.53943906e-01\n",
      "    1.35327151e-05]\n",
      " [  0.00000000e+00   1.43923934e-03   0.00000000e+00   3.83616668e-01\n",
      "    3.62676096e-03]] 0.00515595644518\n"
     ]
    }
   ],
   "source": [
    "window = 20\n",
    "X_train, y_train, X_test, y_test = load_data(df, window)\n",
    "print (X_train[0], y_train[0])"
   ]
  },
  {
   "cell_type": "code",
   "execution_count": 10,
   "metadata": {},
   "outputs": [
    {
     "name": "stdout",
     "output_type": "stream",
     "text": [
      "Compilation Time :  0.03902840614318848\n"
     ]
    }
   ],
   "source": [
    "model = build_model([5,window,1])"
   ]
  },
  {
   "cell_type": "markdown",
   "metadata": {},
   "source": [
    "### Fit model with 90 epochs:"
   ]
  },
  {
   "cell_type": "code",
   "execution_count": 11,
   "metadata": {
    "scrolled": true
   },
   "outputs": [
    {
     "name": "stdout",
     "output_type": "stream",
     "text": [
      "Train on 1410 samples, validate on 157 samples\n",
      "Epoch 1/90\n",
      "1410/1410 [==============================] - 7s 5ms/step - loss: 0.2445 - acc: 7.0922e-04 - val_loss: 0.4383 - val_acc: 0.0000e+00\n",
      "Epoch 2/90\n",
      "1410/1410 [==============================] - 5s 4ms/step - loss: 0.1318 - acc: 7.0922e-04 - val_loss: 0.0478 - val_acc: 0.0000e+00\n",
      "Epoch 3/90\n",
      "1410/1410 [==============================] - 6s 4ms/step - loss: 0.0632 - acc: 0.0014 - val_loss: 0.0183 - val_acc: 0.0000e+00\n",
      "Epoch 4/90\n",
      "1410/1410 [==============================] - 5s 4ms/step - loss: 0.0504 - acc: 0.0014 - val_loss: 0.0968 - val_acc: 0.0000e+00\n",
      "Epoch 5/90\n",
      "1410/1410 [==============================] - 5s 3ms/step - loss: 0.0430 - acc: 7.0922e-04 - val_loss: 0.1248 - val_acc: 0.0000e+00\n",
      "Epoch 6/90\n",
      "1410/1410 [==============================] - 5s 3ms/step - loss: 0.0390 - acc: 7.0922e-04 - val_loss: 0.0553 - val_acc: 0.0000e+00\n",
      "Epoch 7/90\n",
      "1410/1410 [==============================] - 5s 4ms/step - loss: 0.0184 - acc: 0.0014 - val_loss: 0.0055 - val_acc: 0.0000e+00\n",
      "Epoch 8/90\n",
      "1410/1410 [==============================] - 5s 3ms/step - loss: 0.0165 - acc: 0.0014 - val_loss: 0.0037 - val_acc: 0.0000e+00\n",
      "Epoch 9/90\n",
      "1410/1410 [==============================] - 5s 3ms/step - loss: 0.0084 - acc: 0.0014 - val_loss: 0.0057 - val_acc: 0.0000e+00\n",
      "Epoch 10/90\n",
      "1410/1410 [==============================] - 6s 4ms/step - loss: 0.0071 - acc: 0.0014 - val_loss: 0.0276 - val_acc: 0.0000e+00\n",
      "Epoch 11/90\n",
      "1410/1410 [==============================] - 5s 4ms/step - loss: 0.0071 - acc: 0.0014 - val_loss: 0.0019 - val_acc: 0.0000e+00\n",
      "Epoch 12/90\n",
      "1410/1410 [==============================] - 5s 4ms/step - loss: 0.0047 - acc: 0.0014 - val_loss: 0.0039 - val_acc: 0.0000e+00\n",
      "Epoch 13/90\n",
      "1410/1410 [==============================] - 5s 4ms/step - loss: 0.0031 - acc: 0.0014 - val_loss: 0.0040 - val_acc: 0.0000e+00\n",
      "Epoch 14/90\n",
      "1410/1410 [==============================] - 5s 3ms/step - loss: 0.0040 - acc: 0.0014 - val_loss: 0.0023 - val_acc: 0.0000e+00\n",
      "Epoch 15/90\n",
      "1410/1410 [==============================] - 5s 3ms/step - loss: 0.0029 - acc: 0.0014 - val_loss: 0.0038 - val_acc: 0.0000e+00\n",
      "Epoch 16/90\n",
      "1410/1410 [==============================] - 5s 4ms/step - loss: 0.0022 - acc: 0.0014 - val_loss: 0.0046 - val_acc: 0.0000e+00\n",
      "Epoch 17/90\n",
      "1410/1410 [==============================] - 5s 3ms/step - loss: 0.0022 - acc: 0.0014 - val_loss: 0.0022 - val_acc: 0.0000e+00\n",
      "Epoch 18/90\n",
      "1410/1410 [==============================] - 5s 3ms/step - loss: 0.0020 - acc: 0.0014 - val_loss: 0.0019 - val_acc: 0.0000e+00\n",
      "Epoch 19/90\n",
      "1410/1410 [==============================] - 5s 4ms/step - loss: 0.0019 - acc: 0.0014 - val_loss: 0.0036 - val_acc: 0.0000e+00\n",
      "Epoch 20/90\n",
      "1410/1410 [==============================] - 5s 4ms/step - loss: 0.0019 - acc: 0.0014 - val_loss: 0.0018 - val_acc: 0.0000e+00\n",
      "Epoch 21/90\n",
      "1410/1410 [==============================] - 5s 3ms/step - loss: 0.0017 - acc: 0.0014 - val_loss: 0.0018 - val_acc: 0.0000e+00\n",
      "Epoch 22/90\n",
      "1410/1410 [==============================] - 6s 4ms/step - loss: 0.0018 - acc: 0.0014 - val_loss: 0.0021 - val_acc: 0.0000e+00\n",
      "Epoch 23/90\n",
      "1410/1410 [==============================] - 6s 4ms/step - loss: 0.0017 - acc: 0.0014 - val_loss: 0.0017 - val_acc: 0.0000e+00\n",
      "Epoch 24/90\n",
      "1410/1410 [==============================] - 6s 4ms/step - loss: 0.0016 - acc: 0.0014 - val_loss: 0.0025 - val_acc: 0.0000e+00\n",
      "Epoch 25/90\n",
      "1410/1410 [==============================] - 6s 5ms/step - loss: 0.0017 - acc: 0.0014 - val_loss: 0.0018 - val_acc: 0.0000e+00\n",
      "Epoch 26/90\n",
      "1410/1410 [==============================] - 6s 4ms/step - loss: 0.0017 - acc: 0.0014 - val_loss: 0.0022 - val_acc: 0.0000e+00\n",
      "Epoch 27/90\n",
      "1410/1410 [==============================] - 6s 4ms/step - loss: 0.0017 - acc: 0.0014 - val_loss: 0.0019 - val_acc: 0.0000e+00\n",
      "Epoch 28/90\n",
      "1410/1410 [==============================] - 6s 4ms/step - loss: 0.0017 - acc: 0.0014 - val_loss: 0.0017 - val_acc: 0.0000e+00\n",
      "Epoch 29/90\n",
      "1410/1410 [==============================] - 5s 4ms/step - loss: 0.0017 - acc: 0.0014 - val_loss: 0.0024 - val_acc: 0.0000e+00\n",
      "Epoch 30/90\n",
      "1410/1410 [==============================] - 6s 4ms/step - loss: 0.0017 - acc: 0.0014 - val_loss: 0.0017 - val_acc: 0.0000e+00\n",
      "Epoch 31/90\n",
      "1410/1410 [==============================] - 6s 4ms/step - loss: 0.0016 - acc: 0.0014 - val_loss: 0.0018 - val_acc: 0.0000e+00\n",
      "Epoch 32/90\n",
      "1410/1410 [==============================] - 5s 4ms/step - loss: 0.0016 - acc: 0.0014 - val_loss: 0.0026 - val_acc: 0.0000e+00\n",
      "Epoch 33/90\n",
      "1410/1410 [==============================] - 5s 4ms/step - loss: 0.0016 - acc: 0.0014 - val_loss: 0.0016 - val_acc: 0.0000e+00\n",
      "Epoch 34/90\n",
      "1410/1410 [==============================] - 6s 4ms/step - loss: 0.0016 - acc: 0.0014 - val_loss: 0.0024 - val_acc: 0.0000e+00\n",
      "Epoch 35/90\n",
      "1410/1410 [==============================] - 6s 4ms/step - loss: 0.0014 - acc: 0.0014 - val_loss: 0.0016 - val_acc: 0.0000e+00\n",
      "Epoch 36/90\n",
      "1410/1410 [==============================] - 6s 4ms/step - loss: 0.0015 - acc: 0.0014 - val_loss: 0.0022 - val_acc: 0.0000e+00\n",
      "Epoch 37/90\n",
      "1410/1410 [==============================] - 5s 4ms/step - loss: 0.0016 - acc: 0.0014 - val_loss: 0.0016 - val_acc: 0.0000e+00\n",
      "Epoch 38/90\n",
      "1410/1410 [==============================] - 5s 3ms/step - loss: 0.0015 - acc: 0.0014 - val_loss: 0.0020 - val_acc: 0.0000e+00\n",
      "Epoch 39/90\n",
      "1410/1410 [==============================] - 5s 4ms/step - loss: 0.0016 - acc: 0.0014 - val_loss: 0.0018 - val_acc: 0.0000e+00\n",
      "Epoch 40/90\n",
      "1410/1410 [==============================] - 6s 4ms/step - loss: 0.0014 - acc: 0.0014 - val_loss: 0.0017 - val_acc: 0.0000e+00\n",
      "Epoch 41/90\n",
      "1410/1410 [==============================] - 6s 4ms/step - loss: 0.0015 - acc: 0.0014 - val_loss: 0.0021 - val_acc: 0.0000e+00\n",
      "Epoch 42/90\n",
      "1410/1410 [==============================] - 6s 5ms/step - loss: 0.0016 - acc: 0.0014 - val_loss: 0.0016 - val_acc: 0.0000e+00\n",
      "Epoch 43/90\n",
      "1410/1410 [==============================] - 5s 4ms/step - loss: 0.0014 - acc: 0.0014 - val_loss: 0.0020 - val_acc: 0.0000e+00\n",
      "Epoch 44/90\n",
      "1410/1410 [==============================] - 5s 4ms/step - loss: 0.0014 - acc: 0.0014 - val_loss: 0.0015 - val_acc: 0.0000e+00\n",
      "Epoch 45/90\n",
      "1410/1410 [==============================] - 5s 4ms/step - loss: 0.0014 - acc: 0.0014 - val_loss: 0.0020 - val_acc: 0.0000e+00\n",
      "Epoch 46/90\n",
      "1410/1410 [==============================] - 5s 3ms/step - loss: 0.0015 - acc: 0.0014 - val_loss: 0.0018 - val_acc: 0.0000e+00\n",
      "Epoch 47/90\n",
      "1410/1410 [==============================] - 5s 4ms/step - loss: 0.0014 - acc: 0.0014 - val_loss: 0.0018 - val_acc: 0.0000e+00\n",
      "Epoch 48/90\n",
      "1410/1410 [==============================] - 6s 4ms/step - loss: 0.0014 - acc: 0.0014 - val_loss: 0.0020 - val_acc: 0.0000e+00\n",
      "Epoch 49/90\n",
      "1410/1410 [==============================] - 6s 4ms/step - loss: 0.0014 - acc: 0.0014 - val_loss: 0.0017 - val_acc: 0.0000e+00\n",
      "Epoch 50/90\n",
      "1410/1410 [==============================] - 6s 4ms/step - loss: 0.0015 - acc: 0.0014 - val_loss: 0.0016 - val_acc: 0.0000e+00\n",
      "Epoch 51/90\n",
      "1410/1410 [==============================] - 6s 4ms/step - loss: 0.0013 - acc: 0.0014 - val_loss: 0.0017 - val_acc: 0.0000e+00\n",
      "Epoch 52/90\n",
      "1410/1410 [==============================] - 5s 4ms/step - loss: 0.0015 - acc: 0.0014 - val_loss: 0.0015 - val_acc: 0.0000e+00\n",
      "Epoch 53/90\n",
      "1410/1410 [==============================] - 6s 4ms/step - loss: 0.0015 - acc: 0.0014 - val_loss: 0.0020 - val_acc: 0.0000e+00\n",
      "Epoch 54/90\n",
      "1410/1410 [==============================] - 6s 4ms/step - loss: 0.0014 - acc: 0.0014 - val_loss: 0.0014 - val_acc: 0.0000e+00\n",
      "Epoch 55/90\n",
      "1410/1410 [==============================] - 5s 4ms/step - loss: 0.0014 - acc: 0.0014 - val_loss: 0.0024 - val_acc: 0.0000e+00\n",
      "Epoch 56/90\n",
      "1410/1410 [==============================] - 6s 4ms/step - loss: 0.0014 - acc: 0.0014 - val_loss: 0.0014 - val_acc: 0.0000e+00\n",
      "Epoch 57/90\n",
      "1410/1410 [==============================] - 6s 4ms/step - loss: 0.0014 - acc: 0.0014 - val_loss: 0.0017 - val_acc: 0.0000e+00\n",
      "Epoch 58/90\n",
      "1410/1410 [==============================] - 5s 4ms/step - loss: 0.0014 - acc: 0.0014 - val_loss: 0.0014 - val_acc: 0.0000e+00\n",
      "Epoch 59/90\n",
      "1410/1410 [==============================] - 5s 4ms/step - loss: 0.0014 - acc: 0.0014 - val_loss: 0.0014 - val_acc: 0.0000e+00\n",
      "Epoch 60/90\n",
      "1410/1410 [==============================] - 6s 4ms/step - loss: 0.0014 - acc: 0.0014 - val_loss: 0.0020 - val_acc: 0.0000e+00\n",
      "Epoch 61/90\n",
      "1410/1410 [==============================] - 6s 4ms/step - loss: 0.0013 - acc: 0.0014 - val_loss: 0.0015 - val_acc: 0.0000e+00\n",
      "Epoch 62/90\n",
      "1410/1410 [==============================] - 5s 4ms/step - loss: 0.0014 - acc: 0.0014 - val_loss: 0.0017 - val_acc: 0.0000e+00\n",
      "Epoch 63/90\n",
      "1410/1410 [==============================] - 5s 4ms/step - loss: 0.0013 - acc: 0.0014 - val_loss: 0.0013 - val_acc: 0.0000e+00\n",
      "Epoch 64/90\n",
      "1410/1410 [==============================] - 5s 3ms/step - loss: 0.0013 - acc: 0.0014 - val_loss: 0.0013 - val_acc: 0.0000e+00\n",
      "Epoch 65/90\n",
      "1410/1410 [==============================] - 5s 3ms/step - loss: 0.0013 - acc: 0.0014 - val_loss: 0.0024 - val_acc: 0.0000e+00\n",
      "Epoch 66/90\n",
      "1410/1410 [==============================] - 5s 4ms/step - loss: 0.0015 - acc: 0.0014 - val_loss: 0.0013 - val_acc: 0.0000e+00\n",
      "Epoch 67/90\n",
      "1410/1410 [==============================] - 5s 4ms/step - loss: 0.0014 - acc: 0.0014 - val_loss: 0.0013 - val_acc: 0.0000e+00\n",
      "Epoch 68/90\n",
      "1410/1410 [==============================] - 6s 4ms/step - loss: 0.0012 - acc: 0.0014 - val_loss: 0.0017 - val_acc: 0.0000e+00\n",
      "Epoch 69/90\n",
      "1410/1410 [==============================] - 6s 4ms/step - loss: 0.0012 - acc: 0.0014 - val_loss: 0.0012 - val_acc: 0.0000e+00\n",
      "Epoch 70/90\n",
      "1410/1410 [==============================] - 6s 4ms/step - loss: 0.0013 - acc: 0.0014 - val_loss: 0.0019 - val_acc: 0.0000e+00\n",
      "Epoch 71/90\n",
      "1410/1410 [==============================] - 6s 4ms/step - loss: 0.0013 - acc: 0.0014 - val_loss: 0.0014 - val_acc: 0.0000e+00\n",
      "Epoch 72/90\n",
      "1410/1410 [==============================] - 5s 4ms/step - loss: 0.0013 - acc: 0.0014 - val_loss: 0.0012 - val_acc: 0.0000e+00\n",
      "Epoch 73/90\n",
      "1410/1410 [==============================] - 5s 4ms/step - loss: 0.0014 - acc: 0.0014 - val_loss: 0.0015 - val_acc: 0.0000e+00\n",
      "Epoch 74/90\n",
      "1410/1410 [==============================] - 6s 4ms/step - loss: 0.0013 - acc: 0.0014 - val_loss: 0.0016 - val_acc: 0.0000e+00\n",
      "Epoch 75/90\n",
      "1410/1410 [==============================] - 5s 4ms/step - loss: 0.0013 - acc: 0.0014 - val_loss: 0.0012 - val_acc: 0.0000e+00\n",
      "Epoch 76/90\n",
      "1410/1410 [==============================] - 5s 4ms/step - loss: 0.0013 - acc: 0.0014 - val_loss: 0.0018 - val_acc: 0.0000e+00\n",
      "Epoch 77/90\n",
      "1410/1410 [==============================] - 5s 4ms/step - loss: 0.0012 - acc: 0.0014 - val_loss: 0.0011 - val_acc: 0.0000e+00\n",
      "Epoch 78/90\n",
      "1410/1410 [==============================] - 6s 4ms/step - loss: 0.0013 - acc: 0.0014 - val_loss: 0.0011 - val_acc: 0.0000e+00\n",
      "Epoch 79/90\n",
      "1410/1410 [==============================] - 5s 4ms/step - loss: 0.0013 - acc: 0.0014 - val_loss: 0.0020 - val_acc: 0.0000e+00\n",
      "Epoch 80/90\n",
      "1410/1410 [==============================] - 6s 4ms/step - loss: 0.0013 - acc: 0.0014 - val_loss: 0.0011 - val_acc: 0.0000e+00\n",
      "Epoch 81/90\n",
      "1410/1410 [==============================] - 5s 4ms/step - loss: 0.0013 - acc: 0.0014 - val_loss: 0.0012 - val_acc: 0.0000e+00\n",
      "Epoch 82/90\n",
      "1410/1410 [==============================] - 6s 4ms/step - loss: 0.0012 - acc: 0.0014 - val_loss: 0.0020 - val_acc: 0.0000e+00\n",
      "Epoch 83/90\n",
      "1410/1410 [==============================] - 7s 5ms/step - loss: 0.0012 - acc: 0.0014 - val_loss: 0.0011 - val_acc: 0.0000e+00\n",
      "Epoch 84/90\n",
      "1410/1410 [==============================] - 6s 4ms/step - loss: 0.0012 - acc: 0.0014 - val_loss: 0.0013 - val_acc: 0.0000e+00\n",
      "Epoch 85/90\n",
      "1410/1410 [==============================] - 7s 5ms/step - loss: 0.0012 - acc: 0.0014 - val_loss: 0.0015 - val_acc: 0.0000e+00\n",
      "Epoch 86/90\n",
      "1410/1410 [==============================] - 6s 4ms/step - loss: 0.0011 - acc: 0.0014 - val_loss: 0.0015 - val_acc: 0.0000e+00\n",
      "Epoch 87/90\n",
      "1410/1410 [==============================] - 6s 4ms/step - loss: 0.0013 - acc: 0.0014 - val_loss: 0.0015 - val_acc: 0.0000e+00\n",
      "Epoch 88/90\n",
      "1410/1410 [==============================] - 7s 5ms/step - loss: 0.0012 - acc: 0.0014 - val_loss: 0.0016 - val_acc: 0.0000e+00\n",
      "Epoch 89/90\n",
      "1410/1410 [==============================] - 6s 4ms/step - loss: 0.0012 - acc: 0.0014 - val_loss: 0.0011 - val_acc: 0.0000e+00\n",
      "Epoch 90/90\n",
      "1410/1410 [==============================] - 5s 4ms/step - loss: 0.0013 - acc: 0.0014 - val_loss: 0.0011 - val_acc: 0.0000e+00\n"
     ]
    },
    {
     "data": {
      "text/plain": [
       "<keras.callbacks.History at 0x1f6deacb208>"
      ]
     },
     "execution_count": 11,
     "metadata": {},
     "output_type": "execute_result"
    }
   ],
   "source": [
    "model.fit(X_train,y_train,batch_size=512,epochs=90,validation_split=0.1,verbose=1)"
   ]
  },
  {
   "cell_type": "code",
   "execution_count": 12,
   "metadata": {},
   "outputs": [
    {
     "name": "stdout",
     "output_type": "stream",
     "text": [
      "(174, 1)\n"
     ]
    }
   ],
   "source": [
    "diff=[]\n",
    "ratio=[]\n",
    "p = model.predict(X_test)\n",
    "print (p.shape) #for each data index in test data\n",
    "for u in range(len(y_test)):\n",
    "    # pr = prediction day u\n",
    "    pr = p[u][0]\n",
    "    # (y_test day u / pr) - 1\n",
    "    ratio.append((y_test[u]/pr)-1)\n",
    "    diff.append(abs(y_test[u]- pr))"
   ]
  },
  {
   "cell_type": "markdown",
   "metadata": {},
   "source": [
    "### RMSE score:"
   ]
  },
  {
   "cell_type": "code",
   "execution_count": 13,
   "metadata": {},
   "outputs": [
    {
     "name": "stdout",
     "output_type": "stream",
     "text": [
      "Train Score: 0.00067 MSE (0.03 RMSE)\n",
      "Test Score: 0.00117 MSE (0.03 RMSE)\n"
     ]
    },
    {
     "data": {
      "text/plain": [
       "(0.00066958577308985667, 0.0011673327535390854)"
      ]
     },
     "execution_count": 13,
     "metadata": {},
     "output_type": "execute_result"
    }
   ],
   "source": [
    "def model_score(model, X_train, y_train, X_test, y_test):\n",
    "    trainScore = model.evaluate(X_train, y_train, verbose=0)\n",
    "    print('Train Score: %.5f MSE (%.2f RMSE)' % (trainScore[0], math.sqrt(trainScore[0])))\n",
    "\n",
    "    testScore = model.evaluate(X_test, y_test, verbose=0)\n",
    "    print('Test Score: %.5f MSE (%.2f RMSE)' % (testScore[0], math.sqrt(testScore[0])))\n",
    "    return trainScore[0], testScore[0]\n",
    "\n",
    "\n",
    "model_score(model, X_train, y_train, X_test, y_test)"
   ]
  },
  {
   "cell_type": "code",
   "execution_count": 14,
   "metadata": {
    "collapsed": true
   },
   "outputs": [],
   "source": [
    "df = pd.read_csv('prices-split-adjusted.csv', index_col = 0)\n",
    "df[\"adj close\"] = df.close # Moving close to the last column\n",
    "df.drop(['close'], 1, inplace=True) # Moving close to the last column\n",
    "df = df[df.symbol == 'AAPL']\n",
    "df.drop(['symbol'],1,inplace=True)\n",
    "\n",
    "# Bug fixed at here, please update the denormalize function to this one\n",
    "def denormalize(df, normalized_value): \n",
    "    df = df['adj close'].values.reshape(-1,1)\n",
    "    normalized_value = normalized_value.reshape(-1,1)\n",
    "    \n",
    "    #return df.shape, p.shape\n",
    "    min_max_scaler = preprocessing.MinMaxScaler()\n",
    "    a = min_max_scaler.fit_transform(df)\n",
    "    new = min_max_scaler.inverse_transform(normalized_value)\n",
    "    return new\n",
    "\n",
    "newp = denormalize(df, p)\n",
    "newy_test = denormalize(df, y_test)"
   ]
  },
  {
   "cell_type": "code",
   "execution_count": 15,
   "metadata": {},
   "outputs": [
    {
     "name": "stdout",
     "output_type": "stream",
     "text": [
      "Train Score: 0.00067 MSE (0.03 RMSE)\n",
      "Test Score: 0.00117 MSE (0.03 RMSE)\n"
     ]
    },
    {
     "data": {
      "text/plain": [
       "(0.00066958577308985667, 0.0011673327535390854)"
      ]
     },
     "execution_count": 15,
     "metadata": {},
     "output_type": "execute_result"
    }
   ],
   "source": [
    "def model_score(model, X_train, y_train, X_test, y_test):\n",
    "    trainScore = model.evaluate(X_train, y_train, verbose=0)\n",
    "    print('Train Score: %.5f MSE (%.2f RMSE)' % (trainScore[0], math.sqrt(trainScore[0])))\n",
    "\n",
    "    testScore = model.evaluate(X_test, y_test, verbose=0)\n",
    "    print('Test Score: %.5f MSE (%.2f RMSE)' % (testScore[0], math.sqrt(testScore[0])))\n",
    "    return trainScore[0], testScore[0]\n",
    "\n",
    "\n",
    "model_score(model, X_train, y_train, X_test, y_test)"
   ]
  },
  {
   "cell_type": "markdown",
   "metadata": {},
   "source": [
    "### Plotting: Prediction vs Actual:"
   ]
  },
  {
   "cell_type": "code",
   "execution_count": 19,
   "metadata": {},
   "outputs": [
    {
     "data": {
      "image/png": "[encoded data removed]",
      "text/plain": [
       "<matplotlib.figure.Figure at 0x1ead78a0c18>"
      ]
     },
     "metadata": {},
     "output_type": "display_data"
    }
   ],
   "source": [
    "import matplotlib.pyplot as plt\n",
    "plt.plot(newp,color='red', label='Prediction')\n",
    "plt.plot(newy_test,color='blue', label='Actual')\n",
    "plt.legend(loc='best')\n",
    "plt.show()"
   ]
  },
  {
   "cell_type": "markdown",
   "metadata": {},
   "source": [
    "#### The predicted value is very close to actual value and hence, the prediction model of RNN using Keras works pretty good."
   ]
  },
  {
   "cell_type": "markdown",
   "metadata": {},
   "source": [
    "### Part B - Activation Function:\n",
    " Change the activation function. How does it effect the accuracy?\n",
    " \n",
    " LeakyReLU and PReLU are slightly better versions of ReLU activation function and we should expect slightly higher accuracy.\n",
    "### 1. Using LeakyReLU as activation function:"
   ]
  },
  {
   "cell_type": "code",
   "execution_count": 22,
   "metadata": {
    "collapsed": true
   },
   "outputs": [],
   "source": [
    "from keras.layers.advanced_activations import LeakyReLU, PReLU"
   ]
  },
  {
   "cell_type": "code",
   "execution_count": 23,
   "metadata": {
    "collapsed": true
   },
   "outputs": [],
   "source": [
    "def build_model(layers):\n",
    "    d = 0.3\n",
    "    model = Sequential()\n",
    "    \n",
    "    model.add(LSTM(256, input_shape=(layers[1], layers[0]), return_sequences=True))\n",
    "    model.add(Dropout(d))\n",
    "        \n",
    "    model.add(LSTM(256, input_shape=(layers[1], layers[0]), return_sequences=False))\n",
    "    model.add(Dropout(d))\n",
    "        \n",
    "    #model.add(Dense(32,kernel_initializer=\"uniform\",activation='relu'))        \n",
    "    model.add(Dense(1,kernel_initializer=\"uniform\",activation='linear'))\n",
    "    model.add(LeakyReLU(alpha=.1)) \n",
    "        \n",
    "    start = time.time()\n",
    "    model.compile(loss='mse',optimizer='adam', metrics=['accuracy'])\n",
    "    print(\"Compilation Time : \", time.time() - start)\n",
    "    return model"
   ]
  },
  {
   "cell_type": "code",
   "execution_count": 24,
   "metadata": {},
   "outputs": [
    {
     "name": "stdout",
     "output_type": "stream",
     "text": [
      "Compilation Time :  0.030521631240844727\n"
     ]
    }
   ],
   "source": [
    "model = build_model([5,window,1])"
   ]
  },
  {
   "cell_type": "code",
   "execution_count": 25,
   "metadata": {
    "scrolled": true
   },
   "outputs": [
    {
     "name": "stdout",
     "output_type": "stream",
     "text": [
      "Train on 1410 samples, validate on 157 samples\n",
      "Epoch 1/20\n",
      "1410/1410 [==============================] - 8s 6ms/step - loss: 0.1607 - acc: 7.0922e-04 - val_loss: 0.0196 - val_acc: 0.0000e+00\n",
      "Epoch 2/20\n",
      "1410/1410 [==============================] - 5s 4ms/step - loss: 0.0228 - acc: 0.0014 - val_loss: 0.0292 - val_acc: 0.0000e+00\n",
      "Epoch 3/20\n",
      "1410/1410 [==============================] - 6s 4ms/step - loss: 0.0217 - acc: 0.0014 - val_loss: 0.0432 - val_acc: 0.0000e+00\n",
      "Epoch 4/20\n",
      "1410/1410 [==============================] - 5s 4ms/step - loss: 0.0102 - acc: 0.0014 - val_loss: 0.0107 - val_acc: 0.0000e+00\n",
      "Epoch 5/20\n",
      "1410/1410 [==============================] - 5s 4ms/step - loss: 0.0120 - acc: 0.0014 - val_loss: 0.0015 - val_acc: 0.0000e+00\n",
      "Epoch 6/20\n",
      "1410/1410 [==============================] - 5s 4ms/step - loss: 0.0041 - acc: 0.0014 - val_loss: 0.0186 - val_acc: 0.0000e+00\n",
      "Epoch 7/20\n",
      "1410/1410 [==============================] - 5s 4ms/step - loss: 0.0078 - acc: 0.0014 - val_loss: 0.0047 - val_acc: 0.0000e+00\n",
      "Epoch 8/20\n",
      "1410/1410 [==============================] - 5s 3ms/step - loss: 0.0026 - acc: 0.0014 - val_loss: 0.0076 - val_acc: 0.0000e+00\n",
      "Epoch 9/20\n",
      "1410/1410 [==============================] - 5s 3ms/step - loss: 0.0046 - acc: 0.0014 - val_loss: 0.0015 - val_acc: 0.0000e+00\n",
      "Epoch 10/20\n",
      "1410/1410 [==============================] - 5s 4ms/step - loss: 0.0023 - acc: 0.0014 - val_loss: 0.0048 - val_acc: 0.0000e+00\n",
      "Epoch 11/20\n",
      "1410/1410 [==============================] - 5s 3ms/step - loss: 0.0033 - acc: 0.0014 - val_loss: 0.0012 - val_acc: 0.0000e+00\n",
      "Epoch 12/20\n",
      "1410/1410 [==============================] - 5s 3ms/step - loss: 0.0020 - acc: 0.0014 - val_loss: 0.0053 - val_acc: 0.0000e+00\n",
      "Epoch 13/20\n",
      "1410/1410 [==============================] - 5s 4ms/step - loss: 0.0025 - acc: 0.0014 - val_loss: 0.0012 - val_acc: 0.0000e+00\n",
      "Epoch 14/20\n",
      "1410/1410 [==============================] - 5s 3ms/step - loss: 0.0020 - acc: 0.0014 - val_loss: 0.0018 - val_acc: 0.0000e+00\n",
      "Epoch 15/20\n",
      "1410/1410 [==============================] - 5s 3ms/step - loss: 0.0018 - acc: 0.0014 - val_loss: 0.0014 - val_acc: 0.0000e+00\n",
      "Epoch 16/20\n",
      "1410/1410 [==============================] - 5s 4ms/step - loss: 0.0019 - acc: 0.0014 - val_loss: 0.0018 - val_acc: 0.0000e+00\n",
      "Epoch 17/20\n",
      "1410/1410 [==============================] - 5s 3ms/step - loss: 0.0016 - acc: 0.0014 - val_loss: 0.0013 - val_acc: 0.0000e+00\n",
      "Epoch 18/20\n",
      "1410/1410 [==============================] - 5s 3ms/step - loss: 0.0017 - acc: 0.0014 - val_loss: 0.0011 - val_acc: 0.0000e+00\n",
      "Epoch 19/20\n",
      "1410/1410 [==============================] - 6s 4ms/step - loss: 0.0016 - acc: 0.0014 - val_loss: 0.0014 - val_acc: 0.0000e+00\n",
      "Epoch 20/20\n",
      "1410/1410 [==============================] - 6s 4ms/step - loss: 0.0016 - acc: 0.0014 - val_loss: 0.0011 - val_acc: 0.0000e+00\n"
     ]
    },
    {
     "data": {
      "text/plain": [
       "<keras.callbacks.History at 0x1ea814cc390>"
      ]
     },
     "execution_count": 25,
     "metadata": {},
     "output_type": "execute_result"
    }
   ],
   "source": [
    "model.fit(X_train,y_train,batch_size=512,epochs=20,validation_split=0.1,verbose=1)"
   ]
  },
  {
   "cell_type": "code",
   "execution_count": 26,
   "metadata": {},
   "outputs": [
    {
     "name": "stdout",
     "output_type": "stream",
     "text": [
      "Train Score: 0.00074 MSE (0.03 RMSE)\n",
      "Test Score: 0.00120 MSE (0.03 RMSE)\n"
     ]
    },
    {
     "data": {
      "text/plain": [
       "(0.00073867990914969954, 0.0011951407048337419)"
      ]
     },
     "execution_count": 26,
     "metadata": {},
     "output_type": "execute_result"
    }
   ],
   "source": [
    "def model_score(model, X_train, y_train, X_test, y_test):\n",
    "    trainScore = model.evaluate(X_train, y_train, verbose=0)\n",
    "    print('Train Score: %.5f MSE (%.2f RMSE)' % (trainScore[0], math.sqrt(trainScore[0])))\n",
    "\n",
    "    testScore = model.evaluate(X_test, y_test, verbose=0)\n",
    "    print('Test Score: %.5f MSE (%.2f RMSE)' % (testScore[0], math.sqrt(testScore[0])))\n",
    "    return trainScore[0], testScore[0]\n",
    "\n",
    "model_score(model, X_train, y_train, X_test, y_test)"
   ]
  },
  {
   "cell_type": "markdown",
   "metadata": {},
   "source": [
    "### 2. Using PReLU as the activation function:"
   ]
  },
  {
   "cell_type": "code",
   "execution_count": 27,
   "metadata": {
    "collapsed": true
   },
   "outputs": [],
   "source": [
    "def build_model(layers):\n",
    "    d = 0.3\n",
    "    model = Sequential()\n",
    "    \n",
    "    model.add(LSTM(256, input_shape=(layers[1], layers[0]), return_sequences=True))\n",
    "    model.add(Dropout(d))\n",
    "        \n",
    "    model.add(LSTM(256, input_shape=(layers[1], layers[0]), return_sequences=False))\n",
    "    model.add(Dropout(d))\n",
    "        \n",
    "    #model.add(Dense(32,kernel_initializer=\"uniform\",activation='relu'))        \n",
    "    model.add(Dense(1,kernel_initializer=\"uniform\",activation='linear'))\n",
    "    act = keras.layers.advanced_activations.PReLU(init='one', weights=None)\n",
    "    model.add(act) \n",
    "        \n",
    "    start = time.time()\n",
    "    model.compile(loss='mse',optimizer='adam', metrics=['accuracy'])\n",
    "    print(\"Compilation Time : \", time.time() - start)\n",
    "    return model"
   ]
  },
  {
   "cell_type": "code",
   "execution_count": 28,
   "metadata": {},
   "outputs": [
    {
     "name": "stdout",
     "output_type": "stream",
     "text": [
      "Compilation Time :  0.030521154403686523\n"
     ]
    },
    {
     "name": "stderr",
     "output_type": "stream",
     "text": [
      "C:\\Users\\user\\Anaconda3\\lib\\site-packages\\ipykernel_launcher.py:13: UserWarning: Update your `PReLU` call to the Keras 2 API: `PReLU(weights=None, alpha_initializer=\"one\")`\n",
      "  del sys.path[0]\n"
     ]
    }
   ],
   "source": [
    "model = build_model([5,window,1])"
   ]
  },
  {
   "cell_type": "code",
   "execution_count": 29,
   "metadata": {
    "scrolled": true
   },
   "outputs": [
    {
     "name": "stdout",
     "output_type": "stream",
     "text": [
      "Train on 1410 samples, validate on 157 samples\n",
      "Epoch 1/20\n",
      "1410/1410 [==============================] - 8s 5ms/step - loss: 0.1596 - acc: 7.0922e-04 - val_loss: 0.0254 - val_acc: 0.0000e+00\n",
      "Epoch 2/20\n",
      "1410/1410 [==============================] - 5s 4ms/step - loss: 0.0208 - acc: 0.0014 - val_loss: 0.0251 - val_acc: 0.0000e+00\n",
      "Epoch 3/20\n",
      "1410/1410 [==============================] - 5s 4ms/step - loss: 0.0179 - acc: 0.0014 - val_loss: 0.0334 - val_acc: 0.0000e+00\n",
      "Epoch 4/20\n",
      "1410/1410 [==============================] - 5s 4ms/step - loss: 0.0081 - acc: 0.0014 - val_loss: 0.0122 - val_acc: 0.0000e+00\n",
      "Epoch 5/20\n",
      "1410/1410 [==============================] - 5s 4ms/step - loss: 0.0109 - acc: 0.0014 - val_loss: 0.0013 - val_acc: 0.0000e+00\n",
      "Epoch 6/20\n",
      "1410/1410 [==============================] - 6s 4ms/step - loss: 0.0044 - acc: 0.0014 - val_loss: 0.0174 - val_acc: 0.0000e+00\n",
      "Epoch 7/20\n",
      "1410/1410 [==============================] - 5s 4ms/step - loss: 0.0069 - acc: 0.0014 - val_loss: 0.0023 - val_acc: 0.0000e+00\n",
      "Epoch 8/20\n",
      "1410/1410 [==============================] - 5s 4ms/step - loss: 0.0029 - acc: 0.0014 - val_loss: 0.0072 - val_acc: 0.0000e+00\n",
      "Epoch 9/20\n",
      "1410/1410 [==============================] - 7s 5ms/step - loss: 0.0039 - acc: 0.0014 - val_loss: 0.0013 - val_acc: 0.0000e+00\n",
      "Epoch 10/20\n",
      "1410/1410 [==============================] - 6s 4ms/step - loss: 0.0025 - acc: 0.0014 - val_loss: 0.0041 - val_acc: 0.0000e+00\n",
      "Epoch 11/20\n",
      "1410/1410 [==============================] - 6s 4ms/step - loss: 0.0025 - acc: 0.0014 - val_loss: 0.0016 - val_acc: 0.0000e+00\n",
      "Epoch 12/20\n",
      "1410/1410 [==============================] - 5s 4ms/step - loss: 0.0023 - acc: 0.0014 - val_loss: 0.0030 - val_acc: 0.0000e+00\n",
      "Epoch 13/20\n",
      "1410/1410 [==============================] - 5s 3ms/step - loss: 0.0018 - acc: 0.0014 - val_loss: 0.0012 - val_acc: 0.0000e+00\n",
      "Epoch 14/20\n",
      "1410/1410 [==============================] - 5s 4ms/step - loss: 0.0020 - acc: 0.0014 - val_loss: 0.0011 - val_acc: 0.0000e+00\n",
      "Epoch 15/20\n",
      "1410/1410 [==============================] - 6s 4ms/step - loss: 0.0017 - acc: 0.0014 - val_loss: 0.0018 - val_acc: 0.0000e+00\n",
      "Epoch 16/20\n",
      "1410/1410 [==============================] - 5s 4ms/step - loss: 0.0018 - acc: 0.0014 - val_loss: 0.0011 - val_acc: 0.0000e+00\n",
      "Epoch 17/20\n",
      "1410/1410 [==============================] - 5s 4ms/step - loss: 0.0017 - acc: 0.0014 - val_loss: 0.0012 - val_acc: 0.0000e+00\n",
      "Epoch 18/20\n",
      "1410/1410 [==============================] - 5s 4ms/step - loss: 0.0016 - acc: 0.0014 - val_loss: 0.0014 - val_acc: 0.0000e+00\n",
      "Epoch 19/20\n",
      "1410/1410 [==============================] - 5s 4ms/step - loss: 0.0016 - acc: 0.0014 - val_loss: 0.0013 - val_acc: 0.0000e+00\n",
      "Epoch 20/20\n",
      "1410/1410 [==============================] - 5s 4ms/step - loss: 0.0015 - acc: 0.0014 - val_loss: 0.0011 - val_acc: 0.0000e+00\n"
     ]
    },
    {
     "data": {
      "text/plain": [
       "<keras.callbacks.History at 0x1ea8612c828>"
      ]
     },
     "execution_count": 29,
     "metadata": {},
     "output_type": "execute_result"
    }
   ],
   "source": [
    "model.fit(X_train,y_train,batch_size=512,epochs=20,validation_split=0.1,verbose=1)"
   ]
  },
  {
   "cell_type": "code",
   "execution_count": 30,
   "metadata": {},
   "outputs": [
    {
     "name": "stdout",
     "output_type": "stream",
     "text": [
      "Train Score: 0.00077 MSE (0.03 RMSE)\n",
      "Test Score: 0.00120 MSE (0.03 RMSE)\n"
     ]
    },
    {
     "data": {
      "text/plain": [
       "(0.00077128704074454029, 0.0011958439323258982)"
      ]
     },
     "execution_count": 30,
     "metadata": {},
     "output_type": "execute_result"
    }
   ],
   "source": [
    "def model_score(model, X_train, y_train, X_test, y_test):\n",
    "    trainScore = model.evaluate(X_train, y_train, verbose=0)\n",
    "    print('Train Score: %.5f MSE (%.2f RMSE)' % (trainScore[0], math.sqrt(trainScore[0])))\n",
    "\n",
    "    testScore = model.evaluate(X_test, y_test, verbose=0)\n",
    "    print('Test Score: %.5f MSE (%.2f RMSE)' % (testScore[0], math.sqrt(testScore[0])))\n",
    "    return trainScore[0], testScore[0]\n",
    "\n",
    "model_score(model, X_train, y_train, X_test, y_test)"
   ]
  },
  {
   "cell_type": "markdown",
   "metadata": {},
   "source": [
    "### Results:\n",
    "Applying LeakyReLU and PReLU as activation function, we get a little better accuracy for test case. However, it doesnt change much."
   ]
  },
  {
   "cell_type": "markdown",
   "metadata": {},
   "source": [
    "### Part C - Cost Function:\n",
    "A cost function is a measure of \"how good\" a neural network did with respect to it's given training sample and the expected output. It also may depend on variables such as weights and biases.\n",
    "\n",
    "### 1. Using hinge:"
   ]
  },
  {
   "cell_type": "code",
   "execution_count": 39,
   "metadata": {
    "collapsed": true
   },
   "outputs": [],
   "source": [
    "def build_model(layers):\n",
    "    d = 0.3\n",
    "    model = Sequential()\n",
    "    \n",
    "    model.add(LSTM(256, input_shape=(layers[1], layers[0]), return_sequences=True))\n",
    "    model.add(Dropout(d))\n",
    "        \n",
    "    model.add(LSTM(256, input_shape=(layers[1], layers[0]), return_sequences=False))\n",
    "    model.add(Dropout(d))\n",
    "        \n",
    "    model.add(Dense(32,kernel_initializer=\"uniform\",activation='relu'))        \n",
    "    model.add(Dense(1,kernel_initializer=\"uniform\",activation='linear'))\n",
    "    #model.add(LeakyReLU(alpha=.1)) \n",
    "        \n",
    "    start = time.time()\n",
    "    model.compile(loss='hinge',optimizer='adam', metrics=['accuracy'])\n",
    "    print(\"Compilation Time : \", time.time() - start)\n",
    "    return model"
   ]
  },
  {
   "cell_type": "code",
   "execution_count": 40,
   "metadata": {},
   "outputs": [
    {
     "name": "stdout",
     "output_type": "stream",
     "text": [
      "Compilation Time :  0.039559364318847656\n"
     ]
    }
   ],
   "source": [
    "model = build_model([5,window,1])"
   ]
  },
  {
   "cell_type": "code",
   "execution_count": 41,
   "metadata": {
    "scrolled": true
   },
   "outputs": [
    {
     "name": "stdout",
     "output_type": "stream",
     "text": [
      "Train on 1410 samples, validate on 157 samples\n",
      "Epoch 1/20\n",
      "1410/1410 [==============================] - 10s 7ms/step - loss: 0.9287 - acc: 7.0922e-04 - val_loss: 0.2306 - val_acc: 0.0000e+00\n",
      "Epoch 2/20\n",
      "1410/1410 [==============================] - 6s 4ms/step - loss: 0.4918 - acc: 0.0000e+00 - val_loss: 0.0000e+00 - val_acc: 0.0000e+00\n",
      "Epoch 3/20\n",
      "1410/1410 [==============================] - 6s 4ms/step - loss: 0.1211 - acc: 0.0000e+00 - val_loss: 0.0000e+00 - val_acc: 0.0000e+00\n",
      "Epoch 4/20\n",
      "1410/1410 [==============================] - 6s 4ms/step - loss: 0.0600 - acc: 0.0000e+00 - val_loss: 0.0000e+00 - val_acc: 0.0000e+00\n",
      "Epoch 5/20\n",
      "1410/1410 [==============================] - 6s 4ms/step - loss: 0.0498 - acc: 0.0000e+00 - val_loss: 0.0000e+00 - val_acc: 0.0000e+00\n",
      "Epoch 6/20\n",
      "1410/1410 [==============================] - 6s 4ms/step - loss: 0.0448 - acc: 0.0000e+00 - val_loss: 0.0000e+00 - val_acc: 0.0000e+00\n",
      "Epoch 7/20\n",
      "1410/1410 [==============================] - 6s 4ms/step - loss: 0.0404 - acc: 0.0000e+00 - val_loss: 0.0000e+00 - val_acc: 0.0000e+00\n",
      "Epoch 8/20\n",
      "1410/1410 [==============================] - 6s 4ms/step - loss: 0.0370 - acc: 0.0000e+00 - val_loss: 0.0000e+00 - val_acc: 0.0000e+00\n",
      "Epoch 9/20\n",
      "1410/1410 [==============================] - 5s 4ms/step - loss: 0.0340 - acc: 0.0000e+00 - val_loss: 0.0000e+00 - val_acc: 0.0000e+00\n",
      "Epoch 10/20\n",
      "1410/1410 [==============================] - 6s 4ms/step - loss: 0.0314 - acc: 0.0000e+00 - val_loss: 0.0000e+00 - val_acc: 0.0000e+00\n",
      "Epoch 11/20\n",
      "1410/1410 [==============================] - 5s 4ms/step - loss: 0.0294 - acc: 0.0000e+00 - val_loss: 0.0000e+00 - val_acc: 0.0000e+00\n",
      "Epoch 12/20\n",
      "1410/1410 [==============================] - 6s 4ms/step - loss: 0.0275 - acc: 0.0000e+00 - val_loss: 0.0000e+00 - val_acc: 0.0000e+00\n",
      "Epoch 13/20\n",
      "1410/1410 [==============================] - 6s 4ms/step - loss: 0.0259 - acc: 0.0000e+00 - val_loss: 0.0000e+00 - val_acc: 0.0000e+00\n",
      "Epoch 14/20\n",
      "1410/1410 [==============================] - 6s 4ms/step - loss: 0.0243 - acc: 0.0000e+00 - val_loss: 0.0000e+00 - val_acc: 0.0000e+00\n",
      "Epoch 15/20\n",
      "1410/1410 [==============================] - 5s 4ms/step - loss: 0.0233 - acc: 0.0000e+00 - val_loss: 0.0000e+00 - val_acc: 0.0000e+00\n",
      "Epoch 16/20\n",
      "1410/1410 [==============================] - 6s 4ms/step - loss: 0.0225 - acc: 0.0000e+00 - val_loss: 0.0000e+00 - val_acc: 0.0000e+00\n",
      "Epoch 17/20\n",
      "1410/1410 [==============================] - 5s 4ms/step - loss: 0.0218 - acc: 0.0000e+00 - val_loss: 0.0000e+00 - val_acc: 0.0000e+00\n",
      "Epoch 18/20\n",
      "1410/1410 [==============================] - 5s 4ms/step - loss: 0.0206 - acc: 0.0000e+00 - val_loss: 0.0000e+00 - val_acc: 0.0000e+00\n",
      "Epoch 19/20\n",
      "1410/1410 [==============================] - 6s 4ms/step - loss: 0.0201 - acc: 0.0000e+00 - val_loss: 0.0000e+00 - val_acc: 0.0000e+00\n",
      "Epoch 20/20\n",
      "1410/1410 [==============================] - 5s 4ms/step - loss: 0.0200 - acc: 0.0000e+00 - val_loss: 0.0000e+00 - val_acc: 0.0000e+00\n"
     ]
    },
    {
     "data": {
      "text/plain": [
       "<keras.callbacks.History at 0x27c19d912e8>"
      ]
     },
     "execution_count": 41,
     "metadata": {},
     "output_type": "execute_result"
    }
   ],
   "source": [
    "model.fit(X_train,y_train,batch_size=512,epochs=20,validation_split=0.1,verbose=1)"
   ]
  },
  {
   "cell_type": "code",
   "execution_count": 42,
   "metadata": {},
   "outputs": [
    {
     "name": "stdout",
     "output_type": "stream",
     "text": [
      "Train Score: 0.01754 MSE (0.13 RMSE)\n",
      "Test Score: 0.00000 MSE (0.00 RMSE)\n"
     ]
    },
    {
     "data": {
      "text/plain": [
       "(0.017535012964237703, 0.0)"
      ]
     },
     "execution_count": 42,
     "metadata": {},
     "output_type": "execute_result"
    }
   ],
   "source": [
    "def model_score(model, X_train, y_train, X_test, y_test):\n",
    "    trainScore = model.evaluate(X_train, y_train, verbose=0)\n",
    "    print('Train Score: %.5f MSE (%.2f RMSE)' % (trainScore[0], math.sqrt(trainScore[0])))\n",
    "\n",
    "    testScore = model.evaluate(X_test, y_test, verbose=0)\n",
    "    print('Test Score: %.5f MSE (%.2f RMSE)' % (testScore[0], math.sqrt(testScore[0])))\n",
    "    return trainScore[0], testScore[0]\n",
    "\n",
    "model_score(model, X_train, y_train, X_test, y_test)"
   ]
  },
  {
   "cell_type": "markdown",
   "metadata": {},
   "source": [
    "### 2. Using Squared hinge:"
   ]
  },
  {
   "cell_type": "code",
   "execution_count": 47,
   "metadata": {
    "collapsed": true
   },
   "outputs": [],
   "source": [
    "def build_model(layers):\n",
    "    d = 0.3\n",
    "    model = Sequential()\n",
    "    \n",
    "    model.add(LSTM(256, input_shape=(layers[1], layers[0]), return_sequences=True))\n",
    "    model.add(Dropout(d))\n",
    "        \n",
    "    model.add(LSTM(256, input_shape=(layers[1], layers[0]), return_sequences=False))\n",
    "    model.add(Dropout(d))\n",
    "        \n",
    "    model.add(Dense(32,kernel_initializer=\"uniform\",activation='relu'))        \n",
    "    model.add(Dense(1,kernel_initializer=\"uniform\",activation='linear'))\n",
    "    #model.add(LeakyReLU(alpha=.1)) \n",
    "        \n",
    "    start = time.time()\n",
    "    model.compile(loss='squared_hinge',optimizer='adam', metrics=['accuracy'])\n",
    "    print(\"Compilation Time : \", time.time() - start)\n",
    "    return model"
   ]
  },
  {
   "cell_type": "code",
   "execution_count": 48,
   "metadata": {},
   "outputs": [
    {
     "name": "stdout",
     "output_type": "stream",
     "text": [
      "Compilation Time :  0.03202319145202637\n"
     ]
    }
   ],
   "source": [
    "model = build_model([5,window,1])"
   ]
  },
  {
   "cell_type": "code",
   "execution_count": 49,
   "metadata": {
    "scrolled": true
   },
   "outputs": [
    {
     "name": "stdout",
     "output_type": "stream",
     "text": [
      "Train on 1410 samples, validate on 157 samples\n",
      "Epoch 1/20\n",
      "1410/1410 [==============================] - 8s 6ms/step - loss: 0.9882 - acc: 7.0922e-04 - val_loss: 0.8728 - val_acc: 0.0000e+00\n",
      "Epoch 2/20\n",
      "1410/1410 [==============================] - 5s 4ms/step - loss: 0.8755 - acc: 7.0922e-04 - val_loss: 0.3401 - val_acc: 0.0000e+00\n",
      "Epoch 3/20\n",
      "1410/1410 [==============================] - 5s 4ms/step - loss: 0.5326 - acc: 0.0014 - val_loss: 0.0175 - val_acc: 0.0000e+00\n",
      "Epoch 4/20\n",
      "1410/1410 [==============================] - 5s 4ms/step - loss: 0.2724 - acc: 7.0922e-04 - val_loss: 0.0000e+00 - val_acc: 0.0000e+00\n",
      "Epoch 5/20\n",
      "1410/1410 [==============================] - 5s 4ms/step - loss: 0.1560 - acc: 0.0000e+00 - val_loss: 0.0000e+00 - val_acc: 0.0000e+00\n",
      "Epoch 6/20\n",
      "1410/1410 [==============================] - 6s 4ms/step - loss: 0.1104 - acc: 0.0000e+00 - val_loss: 0.0000e+00 - val_acc: 0.0000e+00\n",
      "Epoch 7/20\n",
      "1410/1410 [==============================] - 6s 4ms/step - loss: 0.0837 - acc: 0.0000e+00 - val_loss: 0.0000e+00 - val_acc: 0.0000e+00\n",
      "Epoch 8/20\n",
      "1410/1410 [==============================] - 6s 4ms/step - loss: 0.0667 - acc: 0.0000e+00 - val_loss: 0.0000e+00 - val_acc: 0.0000e+00\n",
      "Epoch 9/20\n",
      "1410/1410 [==============================] - 6s 4ms/step - loss: 0.0561 - acc: 0.0000e+00 - val_loss: 0.0000e+00 - val_acc: 0.0000e+00\n",
      "Epoch 10/20\n",
      "1410/1410 [==============================] - 5s 4ms/step - loss: 0.0491 - acc: 0.0000e+00 - val_loss: 0.0000e+00 - val_acc: 0.0000e+00\n",
      "Epoch 11/20\n",
      "1410/1410 [==============================] - 5s 4ms/step - loss: 0.0436 - acc: 0.0000e+00 - val_loss: 0.0000e+00 - val_acc: 0.0000e+00\n",
      "Epoch 12/20\n",
      "1410/1410 [==============================] - 5s 4ms/step - loss: 0.0396 - acc: 0.0000e+00 - val_loss: 0.0000e+00 - val_acc: 0.0000e+00\n",
      "Epoch 13/20\n",
      "1410/1410 [==============================] - 5s 4ms/step - loss: 0.0358 - acc: 0.0000e+00 - val_loss: 0.0000e+00 - val_acc: 0.0000e+00\n",
      "Epoch 14/20\n",
      "1410/1410 [==============================] - 6s 4ms/step - loss: 0.0334 - acc: 0.0000e+00 - val_loss: 0.0000e+00 - val_acc: 0.0000e+00\n",
      "Epoch 15/20\n",
      "1410/1410 [==============================] - 5s 4ms/step - loss: 0.0308 - acc: 0.0000e+00 - val_loss: 0.0000e+00 - val_acc: 0.0000e+00\n",
      "Epoch 16/20\n",
      "1410/1410 [==============================] - 5s 4ms/step - loss: 0.0292 - acc: 0.0000e+00 - val_loss: 0.0000e+00 - val_acc: 0.0000e+00\n",
      "Epoch 17/20\n",
      "1410/1410 [==============================] - 5s 4ms/step - loss: 0.0273 - acc: 0.0000e+00 - val_loss: 0.0000e+00 - val_acc: 0.0000e+00\n",
      "Epoch 18/20\n",
      "1410/1410 [==============================] - 5s 4ms/step - loss: 0.0257 - acc: 0.0000e+00 - val_loss: 0.0000e+00 - val_acc: 0.0000e+00\n",
      "Epoch 19/20\n",
      "1410/1410 [==============================] - 5s 4ms/step - loss: 0.0247 - acc: 0.0000e+00 - val_loss: 0.0000e+00 - val_acc: 0.0000e+00\n",
      "Epoch 20/20\n",
      "1410/1410 [==============================] - 5s 4ms/step - loss: 0.0232 - acc: 0.0000e+00 - val_loss: 0.0000e+00 - val_acc: 0.0000e+00\n"
     ]
    },
    {
     "data": {
      "text/plain": [
       "<keras.callbacks.History at 0x1f69ef48518>"
      ]
     },
     "execution_count": 49,
     "metadata": {},
     "output_type": "execute_result"
    }
   ],
   "source": [
    "model.fit(X_train,y_train,batch_size=512,epochs=20,validation_split=0.1,verbose=1)"
   ]
  },
  {
   "cell_type": "code",
   "execution_count": 50,
   "metadata": {},
   "outputs": [
    {
     "name": "stdout",
     "output_type": "stream",
     "text": [
      "Train Score: 0.02002 MSE (0.14 RMSE)\n",
      "Test Score: 0.00000 MSE (0.00 RMSE)\n"
     ]
    },
    {
     "data": {
      "text/plain": [
       "(0.020022971354705481, 0.0)"
      ]
     },
     "execution_count": 50,
     "metadata": {},
     "output_type": "execute_result"
    }
   ],
   "source": [
    "def model_score(model, X_train, y_train, X_test, y_test):\n",
    "    trainScore = model.evaluate(X_train, y_train, verbose=0)\n",
    "    print('Train Score: %.5f MSE (%.2f RMSE)' % (trainScore[0], math.sqrt(trainScore[0])))\n",
    "\n",
    "    testScore = model.evaluate(X_test, y_test, verbose=0)\n",
    "    print('Test Score: %.5f MSE (%.2f RMSE)' % (testScore[0], math.sqrt(testScore[0])))\n",
    "    return trainScore[0], testScore[0]\n",
    "\n",
    "model_score(model, X_train, y_train, X_test, y_test)"
   ]
  },
  {
   "cell_type": "markdown",
   "metadata": {},
   "source": [
    "### Result:\n",
    "Using both hinge and squared hinge as the cost function, the test case accuracy is the best."
   ]
  },
  {
   "cell_type": "markdown",
   "metadata": {},
   "source": [
    "### Part D - Epochs:\n",
    "An epoch is the entire training data exposed to the network, batch-by-batch. As no. of epoch increases, one would expect the test accuracy to increase. However, avoid overfitting the model.\n",
    "\n",
    "Change the number of epochs initialization. How does it effect the accuracy?\n",
    "\n",
    "### 1. Epoch = 50"
   ]
  },
  {
   "cell_type": "code",
   "execution_count": 31,
   "metadata": {
    "scrolled": true
   },
   "outputs": [
    {
     "name": "stdout",
     "output_type": "stream",
     "text": [
      "Train on 1410 samples, validate on 157 samples\n",
      "Epoch 1/50\n",
      "1410/1410 [==============================] - 5s 4ms/step - loss: 0.0015 - acc: 0.0014 - val_loss: 0.0011 - val_acc: 0.0000e+00\n",
      "Epoch 2/50\n",
      "1410/1410 [==============================] - 6s 4ms/step - loss: 0.0015 - acc: 0.0014 - val_loss: 0.0012 - val_acc: 0.0000e+00\n",
      "Epoch 3/50\n",
      "1410/1410 [==============================] - 6s 4ms/step - loss: 0.0015 - acc: 0.0014 - val_loss: 0.0011 - val_acc: 0.0000e+00\n",
      "Epoch 4/50\n",
      "1410/1410 [==============================] - 5s 4ms/step - loss: 0.0016 - acc: 0.0014 - val_loss: 0.0011 - val_acc: 0.0000e+00\n",
      "Epoch 5/50\n",
      "1410/1410 [==============================] - 5s 4ms/step - loss: 0.0015 - acc: 0.0014 - val_loss: 0.0014 - val_acc: 0.0000e+00\n",
      "Epoch 6/50\n",
      "1410/1410 [==============================] - 6s 4ms/step - loss: 0.0015 - acc: 0.0014 - val_loss: 0.0011 - val_acc: 0.0000e+00\n",
      "Epoch 7/50\n",
      "1410/1410 [==============================] - 6s 4ms/step - loss: 0.0014 - acc: 0.0014 - val_loss: 0.0011 - val_acc: 0.0000e+00\n",
      "Epoch 8/50\n",
      "1410/1410 [==============================] - 5s 4ms/step - loss: 0.0015 - acc: 0.0014 - val_loss: 0.0012 - val_acc: 0.0000e+00\n",
      "Epoch 9/50\n",
      "1410/1410 [==============================] - 6s 4ms/step - loss: 0.0015 - acc: 0.0014 - val_loss: 0.0010 - val_acc: 0.0000e+00\n",
      "Epoch 10/50\n",
      "1410/1410 [==============================] - 6s 4ms/step - loss: 0.0013 - acc: 0.0014 - val_loss: 0.0011 - val_acc: 0.0000e+00\n",
      "Epoch 11/50\n",
      "1410/1410 [==============================] - 7s 5ms/step - loss: 0.0014 - acc: 0.0014 - val_loss: 0.0012 - val_acc: 0.0000e+00\n",
      "Epoch 12/50\n",
      "1410/1410 [==============================] - 5s 4ms/step - loss: 0.0014 - acc: 0.0014 - val_loss: 0.0010 - val_acc: 0.0000e+00\n",
      "Epoch 13/50\n",
      "1410/1410 [==============================] - 5s 4ms/step - loss: 0.0014 - acc: 0.0014 - val_loss: 0.0010 - val_acc: 0.0000e+00\n",
      "Epoch 14/50\n",
      "1410/1410 [==============================] - 6s 4ms/step - loss: 0.0014 - acc: 0.0014 - val_loss: 0.0014 - val_acc: 0.0000e+00\n",
      "Epoch 15/50\n",
      "1410/1410 [==============================] - 5s 4ms/step - loss: 0.0014 - acc: 0.0014 - val_loss: 0.0010 - val_acc: 0.0000e+00\n",
      "Epoch 16/50\n",
      "1410/1410 [==============================] - 5s 4ms/step - loss: 0.0015 - acc: 0.0014 - val_loss: 0.0011 - val_acc: 0.0000e+00\n",
      "Epoch 17/50\n",
      "1410/1410 [==============================] - 6s 4ms/step - loss: 0.0013 - acc: 0.0014 - val_loss: 0.0012 - val_acc: 0.0000e+00\n",
      "Epoch 18/50\n",
      "1410/1410 [==============================] - 5s 4ms/step - loss: 0.0013 - acc: 0.0014 - val_loss: 0.0010 - val_acc: 0.0000e+00\n",
      "Epoch 19/50\n",
      "1410/1410 [==============================] - 5s 4ms/step - loss: 0.0012 - acc: 0.0014 - val_loss: 0.0011 - val_acc: 0.0000e+00\n",
      "Epoch 20/50\n",
      "1410/1410 [==============================] - 6s 4ms/step - loss: 0.0013 - acc: 0.0014 - val_loss: 0.0011 - val_acc: 0.0000e+00\n",
      "Epoch 21/50\n",
      "1410/1410 [==============================] - 5s 4ms/step - loss: 0.0014 - acc: 0.0014 - val_loss: 0.0010 - val_acc: 0.0000e+00\n",
      "Epoch 22/50\n",
      "1410/1410 [==============================] - 5s 4ms/step - loss: 0.0015 - acc: 0.0014 - val_loss: 0.0013 - val_acc: 0.0000e+00\n",
      "Epoch 23/50\n",
      "1410/1410 [==============================] - 6s 4ms/step - loss: 0.0014 - acc: 0.0014 - val_loss: 0.0010 - val_acc: 0.0000e+00\n",
      "Epoch 24/50\n",
      "1410/1410 [==============================] - 5s 4ms/step - loss: 0.0014 - acc: 0.0014 - val_loss: 0.0013 - val_acc: 0.0000e+00\n",
      "Epoch 25/50\n",
      "1410/1410 [==============================] - 5s 4ms/step - loss: 0.0015 - acc: 0.0014 - val_loss: 0.0011 - val_acc: 0.0000e+00\n",
      "Epoch 26/50\n",
      "1410/1410 [==============================] - 6s 4ms/step - loss: 0.0013 - acc: 0.0014 - val_loss: 0.0012 - val_acc: 0.0000e+00\n",
      "Epoch 27/50\n",
      "1410/1410 [==============================] - 5s 4ms/step - loss: 0.0013 - acc: 0.0014 - val_loss: 0.0010 - val_acc: 0.0000e+00\n",
      "Epoch 28/50\n",
      "1410/1410 [==============================] - 5s 4ms/step - loss: 0.0013 - acc: 0.0014 - val_loss: 0.0013 - val_acc: 0.0000e+00\n",
      "Epoch 29/50\n",
      "1410/1410 [==============================] - 6s 4ms/step - loss: 0.0014 - acc: 0.0014 - val_loss: 9.9158e-04 - val_acc: 0.0000e+00\n",
      "Epoch 30/50\n",
      "1410/1410 [==============================] - 5s 4ms/step - loss: 0.0014 - acc: 0.0014 - val_loss: 0.0011 - val_acc: 0.0000e+00\n",
      "Epoch 31/50\n",
      "1410/1410 [==============================] - 5s 4ms/step - loss: 0.0014 - acc: 0.0014 - val_loss: 9.7744e-04 - val_acc: 0.0000e+00\n",
      "Epoch 32/50\n",
      "1410/1410 [==============================] - 6s 4ms/step - loss: 0.0013 - acc: 0.0014 - val_loss: 0.0011 - val_acc: 0.0000e+00\n",
      "Epoch 33/50\n",
      "1410/1410 [==============================] - 5s 4ms/step - loss: 0.0013 - acc: 0.0014 - val_loss: 0.0010 - val_acc: 0.0000e+00\n",
      "Epoch 34/50\n",
      "1410/1410 [==============================] - 5s 4ms/step - loss: 0.0013 - acc: 0.0014 - val_loss: 9.6444e-04 - val_acc: 0.0000e+00\n",
      "Epoch 35/50\n",
      "1410/1410 [==============================] - 6s 5ms/step - loss: 0.0013 - acc: 0.0014 - val_loss: 0.0011 - val_acc: 0.0000e+00\n",
      "Epoch 36/50\n",
      "1410/1410 [==============================] - 6s 4ms/step - loss: 0.0013 - acc: 0.0014 - val_loss: 9.8662e-04 - val_acc: 0.0000e+00\n",
      "Epoch 37/50\n",
      "1410/1410 [==============================] - 6s 4ms/step - loss: 0.0015 - acc: 0.0014 - val_loss: 0.0013 - val_acc: 0.0000e+00\n",
      "Epoch 38/50\n",
      "1410/1410 [==============================] - 6s 4ms/step - loss: 0.0013 - acc: 0.0014 - val_loss: 9.9544e-04 - val_acc: 0.0000e+00\n",
      "Epoch 39/50\n",
      "1410/1410 [==============================] - 5s 4ms/step - loss: 0.0014 - acc: 0.0014 - val_loss: 0.0011 - val_acc: 0.0000e+00\n",
      "Epoch 40/50\n",
      "1410/1410 [==============================] - 6s 4ms/step - loss: 0.0013 - acc: 0.0014 - val_loss: 9.5654e-04 - val_acc: 0.0000e+00\n",
      "Epoch 41/50\n",
      "1410/1410 [==============================] - 6s 4ms/step - loss: 0.0014 - acc: 0.0014 - val_loss: 0.0010 - val_acc: 0.0000e+00\n",
      "Epoch 42/50\n",
      "1410/1410 [==============================] - 5s 4ms/step - loss: 0.0013 - acc: 0.0014 - val_loss: 9.4481e-04 - val_acc: 0.0000e+00\n",
      "Epoch 43/50\n",
      "1410/1410 [==============================] - 6s 4ms/step - loss: 0.0012 - acc: 0.0014 - val_loss: 0.0011 - val_acc: 0.0000e+00\n",
      "Epoch 44/50\n",
      "1410/1410 [==============================] - 5s 4ms/step - loss: 0.0013 - acc: 0.0014 - val_loss: 9.8483e-04 - val_acc: 0.0000e+00\n",
      "Epoch 45/50\n",
      "1410/1410 [==============================] - 5s 4ms/step - loss: 0.0013 - acc: 0.0014 - val_loss: 0.0012 - val_acc: 0.0000e+00\n",
      "Epoch 46/50\n",
      "1410/1410 [==============================] - 6s 4ms/step - loss: 0.0012 - acc: 0.0014 - val_loss: 9.3266e-04 - val_acc: 0.0000e+00\n",
      "Epoch 47/50\n",
      "1410/1410 [==============================] - 5s 3ms/step - loss: 0.0012 - acc: 0.0014 - val_loss: 0.0011 - val_acc: 0.0000e+00\n",
      "Epoch 48/50\n",
      "1410/1410 [==============================] - 5s 4ms/step - loss: 0.0012 - acc: 0.0014 - val_loss: 9.2935e-04 - val_acc: 0.0000e+00\n",
      "Epoch 49/50\n",
      "1410/1410 [==============================] - 6s 4ms/step - loss: 0.0013 - acc: 0.0014 - val_loss: 0.0010 - val_acc: 0.0000e+00\n",
      "Epoch 50/50\n",
      "1410/1410 [==============================] - 5s 4ms/step - loss: 0.0012 - acc: 0.0014 - val_loss: 9.6269e-04 - val_acc: 0.0000e+00\n"
     ]
    },
    {
     "data": {
      "text/plain": [
       "<keras.callbacks.History at 0x1ea83cd27f0>"
      ]
     },
     "execution_count": 31,
     "metadata": {},
     "output_type": "execute_result"
    }
   ],
   "source": [
    "model.fit(X_train,y_train,batch_size=512,epochs=50,validation_split=0.1,verbose=1)"
   ]
  },
  {
   "cell_type": "code",
   "execution_count": 32,
   "metadata": {},
   "outputs": [
    {
     "name": "stdout",
     "output_type": "stream",
     "text": [
      "Train Score: 0.00065 MSE (0.03 RMSE)\n",
      "Test Score: 0.00099 MSE (0.03 RMSE)\n"
     ]
    },
    {
     "data": {
      "text/plain": [
       "(0.00065125050584844476, 0.00099131149566336271)"
      ]
     },
     "execution_count": 32,
     "metadata": {},
     "output_type": "execute_result"
    }
   ],
   "source": [
    "def model_score(model, X_train, y_train, X_test, y_test):\n",
    "    trainScore = model.evaluate(X_train, y_train, verbose=0)\n",
    "    print('Train Score: %.5f MSE (%.2f RMSE)' % (trainScore[0], math.sqrt(trainScore[0])))\n",
    "\n",
    "    testScore = model.evaluate(X_test, y_test, verbose=0)\n",
    "    print('Test Score: %.5f MSE (%.2f RMSE)' % (testScore[0], math.sqrt(testScore[0])))\n",
    "    return trainScore[0], testScore[0]\n",
    "model_score(model, X_train, y_train, X_test, y_test)"
   ]
  },
  {
   "cell_type": "markdown",
   "metadata": {},
   "source": [
    "### 2. Epoch =20"
   ]
  },
  {
   "cell_type": "code",
   "execution_count": 15,
   "metadata": {
    "scrolled": true
   },
   "outputs": [
    {
     "name": "stdout",
     "output_type": "stream",
     "text": [
      "Train on 1410 samples, validate on 157 samples\n",
      "Epoch 1/20\n",
      "1410/1410 [==============================] - 6s 4ms/step - loss: 0.0014 - acc: 0.0014 - val_loss: 0.0017 - val_acc: 0.0000e+00\n",
      "Epoch 2/20\n",
      "1410/1410 [==============================] - 6s 4ms/step - loss: 0.0015 - acc: 0.0014 - val_loss: 0.0015 - val_acc: 0.0000e+00\n",
      "Epoch 3/20\n",
      "1410/1410 [==============================] - 5s 4ms/step - loss: 0.0015 - acc: 0.0014 - val_loss: 0.0016 - val_acc: 0.0000e+00\n",
      "Epoch 4/20\n",
      "1410/1410 [==============================] - 5s 3ms/step - loss: 0.0013 - acc: 0.0014 - val_loss: 0.0019 - val_acc: 0.0000e+00\n",
      "Epoch 5/20\n",
      "1410/1410 [==============================] - 5s 4ms/step - loss: 0.0014 - acc: 0.0014 - val_loss: 0.0014 - val_acc: 0.0000e+00\n",
      "Epoch 6/20\n",
      "1410/1410 [==============================] - 5s 4ms/step - loss: 0.0014 - acc: 0.0014 - val_loss: 0.0017 - val_acc: 0.0000e+00\n",
      "Epoch 7/20\n",
      "1410/1410 [==============================] - 5s 4ms/step - loss: 0.0014 - acc: 0.0014 - val_loss: 0.0015 - val_acc: 0.0000e+00\n",
      "Epoch 8/20\n",
      "1410/1410 [==============================] - 6s 4ms/step - loss: 0.0015 - acc: 0.0014 - val_loss: 0.0014 - val_acc: 0.0000e+00\n",
      "Epoch 9/20\n",
      "1410/1410 [==============================] - 5s 4ms/step - loss: 0.0014 - acc: 0.0014 - val_loss: 0.0016 - val_acc: 0.0000e+00\n",
      "Epoch 10/20\n",
      "1410/1410 [==============================] - 6s 4ms/step - loss: 0.0014 - acc: 0.0014 - val_loss: 0.0014 - val_acc: 0.0000e+00\n",
      "Epoch 11/20\n",
      "1410/1410 [==============================] - 5s 4ms/step - loss: 0.0013 - acc: 0.0014 - val_loss: 0.0017 - val_acc: 0.0000e+00\n",
      "Epoch 12/20\n",
      "1410/1410 [==============================] - 5s 4ms/step - loss: 0.0014 - acc: 0.0014 - val_loss: 0.0014 - val_acc: 0.0000e+00\n",
      "Epoch 13/20\n",
      "1410/1410 [==============================] - 5s 4ms/step - loss: 0.0013 - acc: 0.0014 - val_loss: 0.0014 - val_acc: 0.0000e+00\n",
      "Epoch 14/20\n",
      "1410/1410 [==============================] - 5s 4ms/step - loss: 0.0014 - acc: 0.0014 - val_loss: 0.0017 - val_acc: 0.0000e+00\n",
      "Epoch 15/20\n",
      "1410/1410 [==============================] - 5s 4ms/step - loss: 0.0013 - acc: 0.0014 - val_loss: 0.0013 - val_acc: 0.0000e+00\n",
      "Epoch 16/20\n",
      "1410/1410 [==============================] - 5s 4ms/step - loss: 0.0014 - acc: 0.0014 - val_loss: 0.0016 - val_acc: 0.0000e+00\n",
      "Epoch 17/20\n",
      "1410/1410 [==============================] - 5s 4ms/step - loss: 0.0013 - acc: 0.0014 - val_loss: 0.0017 - val_acc: 0.0000e+00\n",
      "Epoch 18/20\n",
      "1410/1410 [==============================] - 5s 4ms/step - loss: 0.0012 - acc: 0.0014 - val_loss: 0.0014 - val_acc: 0.0000e+00\n",
      "Epoch 19/20\n",
      "1410/1410 [==============================] - 6s 4ms/step - loss: 0.0013 - acc: 0.0014 - val_loss: 0.0017 - val_acc: 0.0000e+00\n",
      "Epoch 20/20\n",
      "1410/1410 [==============================] - 6s 4ms/step - loss: 0.0015 - acc: 0.0014 - val_loss: 0.0013 - val_acc: 0.0000e+00\n"
     ]
    },
    {
     "data": {
      "text/plain": [
       "<keras.callbacks.History at 0x27c56fdaf98>"
      ]
     },
     "execution_count": 15,
     "metadata": {},
     "output_type": "execute_result"
    }
   ],
   "source": [
    "model.fit(X_train,y_train,batch_size=512,epochs=20,validation_split=0.1,verbose=1)"
   ]
  },
  {
   "cell_type": "code",
   "execution_count": 16,
   "metadata": {},
   "outputs": [
    {
     "name": "stdout",
     "output_type": "stream",
     "text": [
      "Train Score: 0.00075 MSE (0.03 RMSE)\n",
      "Test Score: 0.00137 MSE (0.04 RMSE)\n"
     ]
    },
    {
     "data": {
      "text/plain": [
       "(0.00075324305526207336, 0.0013732683982689404)"
      ]
     },
     "execution_count": 16,
     "metadata": {},
     "output_type": "execute_result"
    }
   ],
   "source": [
    "def model_score(model, X_train, y_train, X_test, y_test):\n",
    "    trainScore = model.evaluate(X_train, y_train, verbose=0)\n",
    "    print('Train Score: %.5f MSE (%.2f RMSE)' % (trainScore[0], math.sqrt(trainScore[0])))\n",
    "\n",
    "    testScore = model.evaluate(X_test, y_test, verbose=0)\n",
    "    print('Test Score: %.5f MSE (%.2f RMSE)' % (testScore[0], math.sqrt(testScore[0])))\n",
    "    return trainScore[0], testScore[0]\n",
    "\n",
    "\n",
    "model_score(model, X_train, y_train, X_test, y_test)"
   ]
  },
  {
   "cell_type": "markdown",
   "metadata": {},
   "source": [
    "### Result:\n",
    "As the number of epoch increases, the test accuracy also increases."
   ]
  },
  {
   "cell_type": "markdown",
   "metadata": {},
   "source": [
    "### Part E - Gradient estimation:\n",
    "Change the gradient estimation. How does it effect the accuracy?\n",
    "\n",
    "### 1. Using RMSDrop:"
   ]
  },
  {
   "cell_type": "code",
   "execution_count": 29,
   "metadata": {
    "collapsed": true
   },
   "outputs": [],
   "source": [
    "def build_model(layers):\n",
    "    d = 0.3\n",
    "    model = Sequential()\n",
    "    \n",
    "    model.add(LSTM(256, input_shape=(layers[1], layers[0]), return_sequences=True))\n",
    "    model.add(Dropout(d))\n",
    "        \n",
    "    model.add(LSTM(256, input_shape=(layers[1], layers[0]), return_sequences=False))\n",
    "    model.add(Dropout(d))\n",
    "                \n",
    "    model.add(Dense(32,kernel_initializer=\"uniform\",activation='relu'))        \n",
    "    model.add(Dense(1,kernel_initializer=\"uniform\",activation='linear'))\n",
    "    \n",
    "    start = time.time()\n",
    "    model.compile(loss='mse',optimizer='RMSProp', metrics=['accuracy'])\n",
    "    keras.optimizers.RMSprop(lr=0.001, rho=0.9, epsilon=None, decay=0.0)\n",
    "    print(\"Compilation Time : \", time.time() - start)\n",
    "    return model"
   ]
  },
  {
   "cell_type": "code",
   "execution_count": 30,
   "metadata": {},
   "outputs": [
    {
     "name": "stdout",
     "output_type": "stream",
     "text": [
      "Compilation Time :  0.043030500411987305\n"
     ]
    }
   ],
   "source": [
    "model = build_model([5,window,1])"
   ]
  },
  {
   "cell_type": "code",
   "execution_count": 31,
   "metadata": {
    "scrolled": true
   },
   "outputs": [
    {
     "name": "stdout",
     "output_type": "stream",
     "text": [
      "Train on 1410 samples, validate on 157 samples\n",
      "Epoch 1/20\n",
      "1410/1410 [==============================] - 8s 6ms/step - loss: 0.1801 - acc: 0.0014 - val_loss: 0.3921 - val_acc: 0.0000e+00\n",
      "Epoch 2/20\n",
      "1410/1410 [==============================] - 5s 4ms/step - loss: 0.0853 - acc: 7.0922e-04 - val_loss: 0.2800 - val_acc: 0.0000e+00\n",
      "Epoch 3/20\n",
      "1410/1410 [==============================] - 5s 4ms/step - loss: 0.0603 - acc: 7.0922e-04 - val_loss: 0.0664 - val_acc: 0.0000e+00\n",
      "Epoch 4/20\n",
      "1410/1410 [==============================] - 6s 4ms/step - loss: 0.0290 - acc: 0.0014 - val_loss: 0.0047 - val_acc: 0.0000e+00\n",
      "Epoch 5/20\n",
      "1410/1410 [==============================] - 5s 4ms/step - loss: 0.0288 - acc: 0.0014 - val_loss: 0.0321 - val_acc: 0.0000e+00\n",
      "Epoch 6/20\n",
      "1410/1410 [==============================] - 5s 4ms/step - loss: 0.0139 - acc: 0.0014 - val_loss: 0.0108 - val_acc: 0.0000e+00\n",
      "Epoch 7/20\n",
      "1410/1410 [==============================] - 6s 4ms/step - loss: 0.0226 - acc: 0.0014 - val_loss: 0.0353 - val_acc: 0.0000e+00\n",
      "Epoch 8/20\n",
      "1410/1410 [==============================] - 5s 3ms/step - loss: 0.0184 - acc: 0.0014 - val_loss: 0.0057 - val_acc: 0.0000e+00\n",
      "Epoch 9/20\n",
      "1410/1410 [==============================] - 5s 3ms/step - loss: 0.0139 - acc: 0.0014 - val_loss: 0.0313 - val_acc: 0.0000e+00\n",
      "Epoch 10/20\n",
      "1410/1410 [==============================] - 5s 4ms/step - loss: 0.0153 - acc: 0.0014 - val_loss: 0.0097 - val_acc: 0.0000e+00\n",
      "Epoch 11/20\n",
      "1410/1410 [==============================] - 5s 4ms/step - loss: 0.0178 - acc: 0.0014 - val_loss: 0.0497 - val_acc: 0.0000e+00\n",
      "Epoch 12/20\n",
      "1410/1410 [==============================] - 5s 3ms/step - loss: 0.0183 - acc: 0.0014 - val_loss: 0.0078 - val_acc: 0.0000e+00\n",
      "Epoch 13/20\n",
      "1410/1410 [==============================] - 5s 4ms/step - loss: 0.0117 - acc: 0.0014 - val_loss: 0.0185 - val_acc: 0.0000e+00\n",
      "Epoch 14/20\n",
      "1410/1410 [==============================] - 5s 3ms/step - loss: 0.0090 - acc: 0.0014 - val_loss: 0.0112 - val_acc: 0.0000e+00\n",
      "Epoch 15/20\n",
      "1410/1410 [==============================] - 5s 3ms/step - loss: 0.0133 - acc: 0.0014 - val_loss: 0.0320 - val_acc: 0.0000e+00\n",
      "Epoch 16/20\n",
      "1410/1410 [==============================] - 5s 4ms/step - loss: 0.0157 - acc: 0.0014 - val_loss: 0.0060 - val_acc: 0.0000e+00\n",
      "Epoch 17/20\n",
      "1410/1410 [==============================] - 5s 4ms/step - loss: 0.0119 - acc: 0.0014 - val_loss: 0.0383 - val_acc: 0.0000e+00\n",
      "Epoch 18/20\n",
      "1410/1410 [==============================] - 5s 3ms/step - loss: 0.0159 - acc: 0.0014 - val_loss: 0.0169 - val_acc: 0.0000e+00\n",
      "Epoch 19/20\n",
      "1410/1410 [==============================] - 5s 3ms/step - loss: 0.0124 - acc: 0.0014 - val_loss: 0.0146 - val_acc: 0.0000e+00\n",
      "Epoch 20/20\n",
      "1410/1410 [==============================] - 5s 4ms/step - loss: 0.0071 - acc: 0.0014 - val_loss: 0.0119 - val_acc: 0.0000e+00\n"
     ]
    },
    {
     "data": {
      "text/plain": [
       "<keras.callbacks.History at 0x1f6823d1b38>"
      ]
     },
     "execution_count": 31,
     "metadata": {},
     "output_type": "execute_result"
    }
   ],
   "source": [
    "model.fit(X_train,y_train,batch_size=512,epochs=20,validation_split=0.1,verbose=1)"
   ]
  },
  {
   "cell_type": "code",
   "execution_count": 32,
   "metadata": {},
   "outputs": [
    {
     "name": "stdout",
     "output_type": "stream",
     "text": [
      "Train Score: 0.00749 MSE (0.09 RMSE)\n",
      "Test Score: 0.01334 MSE (0.12 RMSE)\n"
     ]
    },
    {
     "data": {
      "text/plain": [
       "(0.0074913287582856576, 0.013338576437605694)"
      ]
     },
     "execution_count": 32,
     "metadata": {},
     "output_type": "execute_result"
    }
   ],
   "source": [
    "def model_score(model, X_train, y_train, X_test, y_test):\n",
    "    trainScore = model.evaluate(X_train, y_train, verbose=0)\n",
    "    print('Train Score: %.5f MSE (%.2f RMSE)' % (trainScore[0], math.sqrt(trainScore[0])))\n",
    "\n",
    "    testScore = model.evaluate(X_test, y_test, verbose=0)\n",
    "    print('Test Score: %.5f MSE (%.2f RMSE)' % (testScore[0], math.sqrt(testScore[0])))\n",
    "    return trainScore[0], testScore[0]\n",
    "\n",
    "model_score(model, X_train, y_train, X_test, y_test)"
   ]
  },
  {
   "cell_type": "markdown",
   "metadata": {},
   "source": [
    "### 2. Using Stochiotic Gradient Descent(SGD):"
   ]
  },
  {
   "cell_type": "code",
   "execution_count": 33,
   "metadata": {
    "collapsed": true
   },
   "outputs": [],
   "source": [
    "def build_model(layers):\n",
    "    d = 0.3\n",
    "    model = Sequential()\n",
    "    \n",
    "    model.add(LSTM(256, input_shape=(layers[1], layers[0]), return_sequences=True))\n",
    "    model.add(Dropout(d))\n",
    "        \n",
    "    model.add(LSTM(256, input_shape=(layers[1], layers[0]), return_sequences=False))\n",
    "    model.add(Dropout(d))\n",
    "                \n",
    "    model.add(Dense(32,kernel_initializer=\"uniform\",activation='relu'))        \n",
    "    model.add(Dense(1,kernel_initializer=\"uniform\",activation='linear'))\n",
    "    \n",
    "    start = time.time()\n",
    "    model.compile(loss='mse',optimizer='SGD', metrics=['accuracy'])\n",
    "    keras.optimizers.RMSprop(lr=0.001, rho=0.9, epsilon=None, decay=0.0)\n",
    "    print(\"Compilation Time : \", time.time() - start)\n",
    "    return model"
   ]
  },
  {
   "cell_type": "code",
   "execution_count": 34,
   "metadata": {},
   "outputs": [
    {
     "name": "stdout",
     "output_type": "stream",
     "text": [
      "Compilation Time :  0.04102730751037598\n"
     ]
    }
   ],
   "source": [
    "model = build_model([5,window,1])"
   ]
  },
  {
   "cell_type": "code",
   "execution_count": 35,
   "metadata": {
    "scrolled": true
   },
   "outputs": [
    {
     "name": "stdout",
     "output_type": "stream",
     "text": [
      "Train on 1410 samples, validate on 157 samples\n",
      "Epoch 1/20\n",
      "1410/1410 [==============================] - 8s 5ms/step - loss: 0.2509 - acc: 7.0922e-04 - val_loss: 0.5484 - val_acc: 0.0000e+00\n",
      "Epoch 2/20\n",
      "1410/1410 [==============================] - 5s 4ms/step - loss: 0.2294 - acc: 7.0922e-04 - val_loss: 0.5125 - val_acc: 0.0000e+00\n",
      "Epoch 3/20\n",
      "1410/1410 [==============================] - 6s 4ms/step - loss: 0.2105 - acc: 7.0922e-04 - val_loss: 0.4801 - val_acc: 0.0000e+00\n",
      "Epoch 4/20\n",
      "1410/1410 [==============================] - 5s 4ms/step - loss: 0.1938 - acc: 7.0922e-04 - val_loss: 0.4504 - val_acc: 0.0000e+00\n",
      "Epoch 5/20\n",
      "1410/1410 [==============================] - 5s 4ms/step - loss: 0.1789 - acc: 7.0922e-04 - val_loss: 0.4233 - val_acc: 0.0000e+00\n",
      "Epoch 6/20\n",
      "1410/1410 [==============================] - 6s 4ms/step - loss: 0.1657 - acc: 7.0922e-04 - val_loss: 0.3986 - val_acc: 0.0000e+00\n",
      "Epoch 7/20\n",
      "1410/1410 [==============================] - 5s 4ms/step - loss: 0.1541 - acc: 7.0922e-04 - val_loss: 0.3761 - val_acc: 0.0000e+00\n",
      "Epoch 8/20\n",
      "1410/1410 [==============================] - 5s 4ms/step - loss: 0.1438 - acc: 7.0922e-04 - val_loss: 0.3554 - val_acc: 0.0000e+00\n",
      "Epoch 9/20\n",
      "1410/1410 [==============================] - 6s 4ms/step - loss: 0.1347 - acc: 7.0922e-04 - val_loss: 0.3365 - val_acc: 0.0000e+00\n",
      "Epoch 10/20\n",
      "1410/1410 [==============================] - 5s 4ms/step - loss: 0.1267 - acc: 7.0922e-04 - val_loss: 0.3193 - val_acc: 0.0000e+00\n",
      "Epoch 11/20\n",
      "1410/1410 [==============================] - 5s 4ms/step - loss: 0.1196 - acc: 7.0922e-04 - val_loss: 0.3036 - val_acc: 0.0000e+00\n",
      "Epoch 12/20\n",
      "1410/1410 [==============================] - 6s 4ms/step - loss: 0.1133 - acc: 7.0922e-04 - val_loss: 0.2891 - val_acc: 0.0000e+00\n",
      "Epoch 13/20\n",
      "1410/1410 [==============================] - 5s 3ms/step - loss: 0.1078 - acc: 7.0922e-04 - val_loss: 0.2757 - val_acc: 0.0000e+00\n",
      "Epoch 14/20\n",
      "1410/1410 [==============================] - 5s 4ms/step - loss: 0.1028 - acc: 7.0922e-04 - val_loss: 0.2635 - val_acc: 0.0000e+00\n",
      "Epoch 15/20\n",
      "1410/1410 [==============================] - 6s 4ms/step - loss: 0.0985 - acc: 7.0922e-04 - val_loss: 0.2522 - val_acc: 0.0000e+00\n",
      "Epoch 16/20\n",
      "1410/1410 [==============================] - 5s 4ms/step - loss: 0.0945 - acc: 7.0922e-04 - val_loss: 0.2419 - val_acc: 0.0000e+00\n",
      "Epoch 17/20\n",
      "1410/1410 [==============================] - 5s 4ms/step - loss: 0.0912 - acc: 7.0922e-04 - val_loss: 0.2325 - val_acc: 0.0000e+00\n",
      "Epoch 18/20\n",
      "1410/1410 [==============================] - 5s 4ms/step - loss: 0.0883 - acc: 7.0922e-04 - val_loss: 0.2237 - val_acc: 0.0000e+00\n",
      "Epoch 19/20\n",
      "1410/1410 [==============================] - 5s 4ms/step - loss: 0.0856 - acc: 7.0922e-04 - val_loss: 0.2157 - val_acc: 0.0000e+00\n",
      "Epoch 20/20\n",
      "1410/1410 [==============================] - 5s 4ms/step - loss: 0.0832 - acc: 7.0922e-04 - val_loss: 0.2081 - val_acc: 0.0000e+00\n"
     ]
    },
    {
     "data": {
      "text/plain": [
       "<keras.callbacks.History at 0x1f68d709c50>"
      ]
     },
     "execution_count": 35,
     "metadata": {},
     "output_type": "execute_result"
    }
   ],
   "source": [
    "model.fit(X_train,y_train,batch_size=512,epochs=20,validation_split=0.1,verbose=1)"
   ]
  },
  {
   "cell_type": "code",
   "execution_count": 36,
   "metadata": {},
   "outputs": [
    {
     "name": "stdout",
     "output_type": "stream",
     "text": [
      "Train Score: 0.09433 MSE (0.31 RMSE)\n",
      "Test Score: 0.19051 MSE (0.44 RMSE)\n"
     ]
    },
    {
     "data": {
      "text/plain": [
       "(0.094333360255734508, 0.19051299047196049)"
      ]
     },
     "execution_count": 36,
     "metadata": {},
     "output_type": "execute_result"
    }
   ],
   "source": [
    "def model_score(model, X_train, y_train, X_test, y_test):\n",
    "    trainScore = model.evaluate(X_train, y_train, verbose=0)\n",
    "    print('Train Score: %.5f MSE (%.2f RMSE)' % (trainScore[0], math.sqrt(trainScore[0])))\n",
    "\n",
    "    testScore = model.evaluate(X_test, y_test, verbose=0)\n",
    "    print('Test Score: %.5f MSE (%.2f RMSE)' % (testScore[0], math.sqrt(testScore[0])))\n",
    "    return trainScore[0], testScore[0]\n",
    "\n",
    "model_score(model, X_train, y_train, X_test, y_test)"
   ]
  },
  {
   "cell_type": "markdown",
   "metadata": {},
   "source": [
    "### Result:\n",
    "The test accuracy decreases.\n",
    "### RMSE:\n",
    "#### For RMSDrop:\n",
    "- Train = 0.007\n",
    "- Test = 0.013\n",
    "\n",
    "#### For SGD:\n",
    "- Train =0.094\n",
    "- Test = 0.19"
   ]
  },
  {
   "cell_type": "markdown",
   "metadata": {},
   "source": [
    "### Result:"
   ]
  },
  {
   "cell_type": "markdown",
   "metadata": {},
   "source": [
    "### Part F - Network Architecture:\n",
    "Change the network architecture. How does it effect the accuracy?\n",
    "How does it effect how quickly the network plateaus?\n",
    "Various forms of network architecture:\n",
    "- Number of layers\n",
    "- Size of each layer"
   ]
  },
  {
   "cell_type": "markdown",
   "metadata": {},
   "source": [
    "### 1. No. of layers:"
   ]
  },
  {
   "cell_type": "code",
   "execution_count": 48,
   "metadata": {
    "collapsed": true
   },
   "outputs": [],
   "source": [
    "def build_model(layers):\n",
    "    d = 0.3 #Dropout\n",
    "    #Dropout is a regularization technique for reducing overfitting in neural networks by preventing complex co-adaptations on training data.\n",
    "    \n",
    "    model = Sequential()\n",
    "    \n",
    "    #hidden layer\n",
    "    #model.add(LSTM(hidden_nodes, input_shape=(timesteps, input_dim)))\n",
    "    model.add(LSTM(256, input_shape=(layers[1], layers[0]), return_sequences=True))\n",
    "    model.add(Dropout(d))\n",
    "        \n",
    "    model.add(LSTM(256, input_shape=(layers[1], layers[0]), return_sequences=True))\n",
    "    model.add(Dropout(d))\n",
    "    \n",
    "    model.add(LSTM(256, input_shape=(layers[1], layers[0]), return_sequences=False))\n",
    "    model.add(Dropout(d))\n",
    "     \n",
    "    #output layer    \n",
    "    model.add(Dense(32,kernel_initializer=\"uniform\",activation='relu'))        \n",
    "    model.add(Dense(1,kernel_initializer=\"uniform\",activation='linear'))\n",
    "        \n",
    "    start = time.time()\n",
    "    model.compile(loss='mse',optimizer='adam', metrics=['accuracy'])\n",
    "    print(\"Compilation Time : \", time.time() - start)\n",
    "    return model"
   ]
  },
  {
   "cell_type": "code",
   "execution_count": 16,
   "metadata": {
    "scrolled": true
   },
   "outputs": [
    {
     "name": "stdout",
     "output_type": "stream",
     "text": [
      "Train on 1410 samples, validate on 157 samples\n",
      "Epoch 1/20\n",
      "1410/1410 [==============================] - 5s 4ms/step - loss: 0.0012 - acc: 0.0014 - val_loss: 0.0021 - val_acc: 0.0000e+00\n",
      "Epoch 2/20\n",
      "1410/1410 [==============================] - 6s 4ms/step - loss: 0.0013 - acc: 0.0014 - val_loss: 0.0010 - val_acc: 0.0000e+00\n",
      "Epoch 3/20\n",
      "1410/1410 [==============================] - 5s 4ms/step - loss: 0.0013 - acc: 0.0014 - val_loss: 0.0016 - val_acc: 0.0000e+00\n",
      "Epoch 4/20\n",
      "1410/1410 [==============================] - 5s 4ms/step - loss: 0.0016 - acc: 0.0014 - val_loss: 0.0018 - val_acc: 0.0000e+00\n",
      "Epoch 5/20\n",
      "1410/1410 [==============================] - 6s 4ms/step - loss: 0.0013 - acc: 0.0014 - val_loss: 0.0011 - val_acc: 0.0000e+00\n",
      "Epoch 6/20\n",
      "1410/1410 [==============================] - 5s 4ms/step - loss: 0.0012 - acc: 0.0014 - val_loss: 0.0011 - val_acc: 0.0000e+00\n",
      "Epoch 7/20\n",
      "1410/1410 [==============================] - 5s 4ms/step - loss: 0.0012 - acc: 0.0014 - val_loss: 0.0016 - val_acc: 0.0000e+00\n",
      "Epoch 8/20\n",
      "1410/1410 [==============================] - 6s 4ms/step - loss: 0.0011 - acc: 0.0014 - val_loss: 0.0012 - val_acc: 0.0000e+00\n",
      "Epoch 9/20\n",
      "1410/1410 [==============================] - 5s 3ms/step - loss: 0.0011 - acc: 0.0014 - val_loss: 0.0010 - val_acc: 0.0000e+00\n",
      "Epoch 10/20\n",
      "1410/1410 [==============================] - 5s 4ms/step - loss: 0.0011 - acc: 0.0014 - val_loss: 0.0013 - val_acc: 0.0000e+00\n",
      "Epoch 11/20\n",
      "1410/1410 [==============================] - 6s 4ms/step - loss: 0.0011 - acc: 0.0014 - val_loss: 0.0017 - val_acc: 0.0000e+00\n",
      "Epoch 12/20\n",
      "1410/1410 [==============================] - 5s 4ms/step - loss: 0.0011 - acc: 0.0014 - val_loss: 0.0011 - val_acc: 0.0000e+00\n",
      "Epoch 13/20\n",
      "1410/1410 [==============================] - 5s 4ms/step - loss: 0.0013 - acc: 0.0014 - val_loss: 0.0013 - val_acc: 0.0000e+00\n",
      "Epoch 14/20\n",
      "1410/1410 [==============================] - 7s 5ms/step - loss: 0.0012 - acc: 0.0014 - val_loss: 0.0015 - val_acc: 0.0000e+00\n",
      "Epoch 15/20\n",
      "1410/1410 [==============================] - 5s 4ms/step - loss: 0.0013 - acc: 0.0014 - val_loss: 0.0011 - val_acc: 0.0000e+00\n",
      "Epoch 16/20\n",
      "1410/1410 [==============================] - 5s 4ms/step - loss: 0.0012 - acc: 0.0014 - val_loss: 9.8745e-04 - val_acc: 0.0000e+00\n",
      "Epoch 17/20\n",
      "1410/1410 [==============================] - 6s 4ms/step - loss: 0.0012 - acc: 0.0014 - val_loss: 0.0023 - val_acc: 0.0000e+00\n",
      "Epoch 18/20\n",
      "1410/1410 [==============================] - 6s 4ms/step - loss: 0.0013 - acc: 0.0014 - val_loss: 0.0014 - val_acc: 0.0000e+00\n",
      "Epoch 19/20\n",
      "1410/1410 [==============================] - 6s 4ms/step - loss: 0.0012 - acc: 0.0014 - val_loss: 0.0018 - val_acc: 0.0000e+00\n",
      "Epoch 20/20\n",
      "1410/1410 [==============================] - 5s 4ms/step - loss: 0.0015 - acc: 0.0014 - val_loss: 0.0013 - val_acc: 0.0000e+00\n"
     ]
    },
    {
     "data": {
      "text/plain": [
       "<keras.callbacks.History at 0x1f6e2412cf8>"
      ]
     },
     "execution_count": 16,
     "metadata": {},
     "output_type": "execute_result"
    }
   ],
   "source": [
    "model.fit(X_train,y_train,batch_size=512,epochs=20,validation_split=0.1,verbose=1)"
   ]
  },
  {
   "cell_type": "code",
   "execution_count": 17,
   "metadata": {},
   "outputs": [
    {
     "name": "stdout",
     "output_type": "stream",
     "text": [
      "Train Score: 0.00069 MSE (0.03 RMSE)\n",
      "Test Score: 0.00134 MSE (0.04 RMSE)\n"
     ]
    },
    {
     "data": {
      "text/plain": [
       "(0.00068764324592255255, 0.0013435743640420488)"
      ]
     },
     "execution_count": 17,
     "metadata": {},
     "output_type": "execute_result"
    }
   ],
   "source": [
    "def model_score(model, X_train, y_train, X_test, y_test):\n",
    "    trainScore = model.evaluate(X_train, y_train, verbose=0)\n",
    "    print('Train Score: %.5f MSE (%.2f RMSE)' % (trainScore[0], math.sqrt(trainScore[0])))\n",
    "\n",
    "    testScore = model.evaluate(X_test, y_test, verbose=0)\n",
    "    print('Test Score: %.5f MSE (%.2f RMSE)' % (testScore[0], math.sqrt(testScore[0])))\n",
    "    return trainScore[0], testScore[0]\n",
    "\n",
    "model_score(model, X_train, y_train, X_test, y_test)"
   ]
  },
  {
   "cell_type": "markdown",
   "metadata": {},
   "source": [
    "### 2. Size of the layer:"
   ]
  },
  {
   "cell_type": "code",
   "execution_count": 21,
   "metadata": {
    "collapsed": true
   },
   "outputs": [],
   "source": [
    "def build_model(layers):\n",
    "    d = 0.3 #Dropout\n",
    "    #Dropout is a regularization technique for reducing overfitting in neural networks by preventing complex co-adaptations on training data.\n",
    "    \n",
    "    model = Sequential()\n",
    "\n",
    "    model.add(LSTM(32, input_shape=(layers[1], layers[0]), return_sequences=True))\n",
    "    model.add(Dropout(d))\n",
    "        \n",
    "    model.add(LSTM(32, input_shape=(layers[1], layers[0]), return_sequences=True))\n",
    "    model.add(Dropout(d))\n",
    "     \n",
    "    #output layer    \n",
    "    model.add(Dense(32,kernel_initializer=\"uniform\",activation='relu'))        \n",
    "    model.add(Dense(1,kernel_initializer=\"uniform\",activation='linear'))\n",
    "        \n",
    "    start = time.time()\n",
    "    model.compile(loss='mse',optimizer='adam', metrics=['accuracy'])\n",
    "    print(\"Compilation Time : \", time.time() - start)\n",
    "    return model"
   ]
  },
  {
   "cell_type": "code",
   "execution_count": 22,
   "metadata": {
    "scrolled": true
   },
   "outputs": [
    {
     "name": "stdout",
     "output_type": "stream",
     "text": [
      "Train on 1410 samples, validate on 157 samples\n",
      "Epoch 1/20\n",
      "1410/1410 [==============================] - 5s 4ms/step - loss: 0.0011 - acc: 0.0014 - val_loss: 0.0013 - val_acc: 0.0000e+00\n",
      "Epoch 2/20\n",
      "1410/1410 [==============================] - 5s 4ms/step - loss: 0.0011 - acc: 0.0014 - val_loss: 9.7355e-04 - val_acc: 0.0000e+00\n",
      "Epoch 3/20\n",
      "1410/1410 [==============================] - 5s 4ms/step - loss: 9.7961e-04 - acc: 0.0014 - val_loss: 8.7137e-04 - val_acc: 0.0000e+00\n",
      "Epoch 4/20\n",
      "1410/1410 [==============================] - 6s 4ms/step - loss: 0.0011 - acc: 0.0014 - val_loss: 0.0014 - val_acc: 0.0000e+00\n",
      "Epoch 5/20\n",
      "1410/1410 [==============================] - 5s 4ms/step - loss: 0.0011 - acc: 0.0014 - val_loss: 0.0010 - val_acc: 0.0000e+00\n",
      "Epoch 6/20\n",
      "1410/1410 [==============================] - 5s 4ms/step - loss: 0.0011 - acc: 0.0014 - val_loss: 9.1163e-04 - val_acc: 0.0000e+00\n",
      "Epoch 7/20\n",
      "1410/1410 [==============================] - 6s 4ms/step - loss: 0.0011 - acc: 0.0014 - val_loss: 0.0010 - val_acc: 0.0000e+00\n",
      "Epoch 8/20\n",
      "1410/1410 [==============================] - 5s 4ms/step - loss: 0.0011 - acc: 0.0014 - val_loss: 9.7570e-04 - val_acc: 0.0000e+00\n",
      "Epoch 9/20\n",
      "1410/1410 [==============================] - 5s 4ms/step - loss: 0.0011 - acc: 0.0014 - val_loss: 8.4086e-04 - val_acc: 0.0000e+00\n",
      "Epoch 10/20\n",
      "1410/1410 [==============================] - 6s 4ms/step - loss: 0.0011 - acc: 0.0014 - val_loss: 8.4792e-04 - val_acc: 0.0000e+00\n",
      "Epoch 11/20\n",
      "1410/1410 [==============================] - 6s 4ms/step - loss: 0.0011 - acc: 0.0014 - val_loss: 0.0016 - val_acc: 0.0000e+00\n",
      "Epoch 12/20\n",
      "1410/1410 [==============================] - 5s 4ms/step - loss: 0.0011 - acc: 0.0014 - val_loss: 0.0011 - val_acc: 0.0000e+00\n",
      "Epoch 13/20\n",
      "1410/1410 [==============================] - 5s 4ms/step - loss: 0.0011 - acc: 0.0014 - val_loss: 8.9093e-04 - val_acc: 0.0000e+00\n",
      "Epoch 14/20\n",
      "1410/1410 [==============================] - 5s 4ms/step - loss: 0.0011 - acc: 0.0014 - val_loss: 8.3328e-04 - val_acc: 0.0000e+00\n",
      "Epoch 15/20\n",
      "1410/1410 [==============================] - 5s 4ms/step - loss: 0.0011 - acc: 0.0014 - val_loss: 0.0014 - val_acc: 0.0000e+00\n",
      "Epoch 16/20\n",
      "1410/1410 [==============================] - 6s 4ms/step - loss: 0.0012 - acc: 0.0014 - val_loss: 0.0015 - val_acc: 0.0000e+00\n",
      "Epoch 17/20\n",
      "1410/1410 [==============================] - 5s 4ms/step - loss: 0.0012 - acc: 0.0014 - val_loss: 0.0011 - val_acc: 0.0000e+00\n",
      "Epoch 18/20\n",
      "1410/1410 [==============================] - 5s 3ms/step - loss: 0.0013 - acc: 0.0014 - val_loss: 8.1214e-04 - val_acc: 0.0000e+00\n",
      "Epoch 19/20\n",
      "1410/1410 [==============================] - 6s 4ms/step - loss: 0.0010 - acc: 0.0014 - val_loss: 0.0011 - val_acc: 0.0000e+00\n",
      "Epoch 20/20\n",
      "1410/1410 [==============================] - 5s 4ms/step - loss: 9.6380e-04 - acc: 0.0014 - val_loss: 9.9661e-04 - val_acc: 0.0000e+00\n"
     ]
    },
    {
     "data": {
      "text/plain": [
       "<keras.callbacks.History at 0x1f6e2412940>"
      ]
     },
     "execution_count": 22,
     "metadata": {},
     "output_type": "execute_result"
    }
   ],
   "source": [
    "model.fit(X_train,y_train,batch_size=512,epochs=20,validation_split=0.1,verbose=1)"
   ]
  },
  {
   "cell_type": "code",
   "execution_count": 23,
   "metadata": {},
   "outputs": [
    {
     "name": "stdout",
     "output_type": "stream",
     "text": [
      "Train Score: 0.00059 MSE (0.02 RMSE)\n",
      "Test Score: 0.00098 MSE (0.03 RMSE)\n"
     ]
    },
    {
     "data": {
      "text/plain": [
       "(0.00058570810352661902, 0.00098301268526588452)"
      ]
     },
     "execution_count": 23,
     "metadata": {},
     "output_type": "execute_result"
    }
   ],
   "source": [
    "def model_score(model, X_train, y_train, X_test, y_test):\n",
    "    trainScore = model.evaluate(X_train, y_train, verbose=0)\n",
    "    print('Train Score: %.5f MSE (%.2f RMSE)' % (trainScore[0], math.sqrt(trainScore[0])))\n",
    "\n",
    "    testScore = model.evaluate(X_test, y_test, verbose=0)\n",
    "    print('Test Score: %.5f MSE (%.2f RMSE)' % (testScore[0], math.sqrt(testScore[0])))\n",
    "    return trainScore[0], testScore[0]\n",
    "\n",
    "model_score(model, X_train, y_train, X_test, y_test)"
   ]
  },
  {
   "cell_type": "markdown",
   "metadata": {},
   "source": [
    "### Result:\n",
    "The mse for test and train score decreases and hence accuracy increases slightly."
   ]
  },
  {
   "cell_type": "markdown",
   "metadata": {},
   "source": [
    "### Part G - Network initialization:\n",
    "Change the network initialization. How does it effect the accuracy?\n",
    "\n",
    "How does it effect how quickly the network plateaus?\n",
    "\n",
    "### 1. Gaussian:"
   ]
  },
  {
   "cell_type": "code",
   "execution_count": 24,
   "metadata": {
    "collapsed": true
   },
   "outputs": [],
   "source": [
    "def build_model(layers):\n",
    "    d = 0.3 #Dropout\n",
    "    #Dropout is a regularization technique for reducing overfitting in neural networks by preventing complex co-adaptations on training data.\n",
    "    \n",
    "    model = Sequential()\n",
    "    \n",
    "    model.add(LSTM(32, input_shape=(layers[1], layers[0]), return_sequences=True))\n",
    "    model.add(Dropout(d))\n",
    "        \n",
    "    model.add(LSTM(32, input_shape=(layers[1], layers[0]), return_sequences=True))\n",
    "    model.add(Dropout(d))\n",
    "     \n",
    "    #output layer    \n",
    "    model.add(Dense(32,kernel_initializer=\"gaussian\",activation='relu'))        \n",
    "    model.add(Dense(1,kernel_initializer=\"gaussian\",activation='linear'))\n",
    "        \n",
    "    start = time.time()\n",
    "    model.compile(loss='mse',optimizer='adam', metrics=['accuracy'])\n",
    "    print(\"Compilation Time : \", time.time() - start)\n",
    "    return model"
   ]
  },
  {
   "cell_type": "code",
   "execution_count": null,
   "metadata": {
    "collapsed": true
   },
   "outputs": [],
   "source": [
    "model = build_model([5,window,1])"
   ]
  },
  {
   "cell_type": "code",
   "execution_count": 25,
   "metadata": {
    "scrolled": true
   },
   "outputs": [
    {
     "name": "stdout",
     "output_type": "stream",
     "text": [
      "Train on 1410 samples, validate on 157 samples\n",
      "Epoch 1/20\n",
      "1410/1410 [==============================] - 5s 4ms/step - loss: 9.6158e-04 - acc: 0.0014 - val_loss: 9.6139e-04 - val_acc: 0.0000e+00\n",
      "Epoch 2/20\n",
      "1410/1410 [==============================] - 6s 4ms/step - loss: 0.0010 - acc: 0.0014 - val_loss: 0.0010 - val_acc: 0.0000e+00\n",
      "Epoch 3/20\n",
      "1410/1410 [==============================] - 5s 4ms/step - loss: 9.8435e-04 - acc: 0.0014 - val_loss: 0.0010 - val_acc: 0.0000e+00\n",
      "Epoch 4/20\n",
      "1410/1410 [==============================] - 5s 4ms/step - loss: 0.0010 - acc: 0.0014 - val_loss: 9.9831e-04 - val_acc: 0.0000e+00\n",
      "Epoch 5/20\n",
      "1410/1410 [==============================] - 6s 4ms/step - loss: 0.0010 - acc: 0.0014 - val_loss: 7.9071e-04 - val_acc: 0.0000e+00\n",
      "Epoch 6/20\n",
      "1410/1410 [==============================] - 5s 4ms/step - loss: 9.8446e-04 - acc: 0.0014 - val_loss: 0.0012 - val_acc: 0.0000e+00\n",
      "Epoch 7/20\n",
      "1410/1410 [==============================] - 5s 4ms/step - loss: 0.0011 - acc: 0.0014 - val_loss: 9.3705e-04 - val_acc: 0.0000e+00\n",
      "Epoch 8/20\n",
      "1410/1410 [==============================] - 6s 5ms/step - loss: 9.6076e-04 - acc: 0.0014 - val_loss: 7.9478e-04 - val_acc: 0.0000e+00\n",
      "Epoch 9/20\n",
      "1410/1410 [==============================] - 5s 4ms/step - loss: 0.0010 - acc: 0.0014 - val_loss: 8.5043e-04 - val_acc: 0.0000e+00\n",
      "Epoch 10/20\n",
      "1410/1410 [==============================] - 5s 4ms/step - loss: 9.4181e-04 - acc: 0.0014 - val_loss: 8.4844e-04 - val_acc: 0.0000e+00\n",
      "Epoch 11/20\n",
      "1410/1410 [==============================] - 5s 4ms/step - loss: 9.8109e-04 - acc: 0.0014 - val_loss: 7.6481e-04 - val_acc: 0.0000e+00\n",
      "Epoch 12/20\n",
      "1410/1410 [==============================] - 5s 4ms/step - loss: 9.9944e-04 - acc: 0.0014 - val_loss: 9.7714e-04 - val_acc: 0.0000e+00\n",
      "Epoch 13/20\n",
      "1410/1410 [==============================] - 6s 4ms/step - loss: 9.9324e-04 - acc: 0.0014 - val_loss: 0.0012 - val_acc: 0.0000e+00\n",
      "Epoch 14/20\n",
      "1410/1410 [==============================] - 6s 4ms/step - loss: 0.0010 - acc: 0.0014 - val_loss: 0.0014 - val_acc: 0.0000e+00\n",
      "Epoch 15/20\n",
      "1410/1410 [==============================] - 5s 4ms/step - loss: 0.0011 - acc: 0.0014 - val_loss: 8.7401e-04 - val_acc: 0.0000e+00\n",
      "Epoch 16/20\n",
      "1410/1410 [==============================] - 5s 3ms/step - loss: 0.0011 - acc: 0.0014 - val_loss: 8.6179e-04 - val_acc: 0.0000e+00\n",
      "Epoch 17/20\n",
      "1410/1410 [==============================] - 5s 4ms/step - loss: 9.6972e-04 - acc: 0.0014 - val_loss: 9.7383e-04 - val_acc: 0.0000e+00\n",
      "Epoch 18/20\n",
      "1410/1410 [==============================] - 5s 3ms/step - loss: 0.0010 - acc: 0.0014 - val_loss: 0.0012 - val_acc: 0.0000e+00\n",
      "Epoch 19/20\n",
      "1410/1410 [==============================] - 5s 3ms/step - loss: 9.6541e-04 - acc: 0.0014 - val_loss: 8.8207e-04 - val_acc: 0.0000e+00\n",
      "Epoch 20/20\n",
      "1410/1410 [==============================] - 6s 4ms/step - loss: 0.0011 - acc: 0.0014 - val_loss: 7.7489e-04 - val_acc: 0.0000e+00\n"
     ]
    },
    {
     "data": {
      "text/plain": [
       "<keras.callbacks.History at 0x1f6e23fdbe0>"
      ]
     },
     "execution_count": 25,
     "metadata": {},
     "output_type": "execute_result"
    }
   ],
   "source": [
    "model.fit(X_train,y_train,batch_size=512,epochs=20,validation_split=0.1,verbose=1)"
   ]
  },
  {
   "cell_type": "code",
   "execution_count": 26,
   "metadata": {},
   "outputs": [
    {
     "name": "stdout",
     "output_type": "stream",
     "text": [
      "Train Score: 0.00058 MSE (0.02 RMSE)\n",
      "Test Score: 0.00076 MSE (0.03 RMSE)\n"
     ]
    },
    {
     "data": {
      "text/plain": [
       "(0.00057898703924675623, 0.00076276013606238642)"
      ]
     },
     "execution_count": 26,
     "metadata": {},
     "output_type": "execute_result"
    }
   ],
   "source": [
    "def model_score(model, X_train, y_train, X_test, y_test):\n",
    "    trainScore = model.evaluate(X_train, y_train, verbose=0)\n",
    "    print('Train Score: %.5f MSE (%.2f RMSE)' % (trainScore[0], math.sqrt(trainScore[0])))\n",
    "\n",
    "    testScore = model.evaluate(X_test, y_test, verbose=0)\n",
    "    print('Test Score: %.5f MSE (%.2f RMSE)' % (testScore[0], math.sqrt(testScore[0])))\n",
    "    return trainScore[0], testScore[0]\n",
    "\n",
    "model_score(model, X_train, y_train, X_test, y_test)"
   ]
  },
  {
   "cell_type": "markdown",
   "metadata": {},
   "source": [
    "### 2. Using Xavier Uniform:"
   ]
  },
  {
   "cell_type": "code",
   "execution_count": 59,
   "metadata": {
    "collapsed": true
   },
   "outputs": [],
   "source": [
    "from keras.layers.core import Flatten\n",
    "def build_model(layers):\n",
    "    d = 0.3 #Dropout\n",
    "    #Dropout is a regularization technique for reducing overfitting in neural networks by preventing complex co-adaptations on training data.\n",
    "    \n",
    "    model = Sequential()\n",
    "    \n",
    "    model.add(LSTM(32, input_shape=(layers[1], layers[0]), return_sequences=True))\n",
    "    model.add(Dropout(d))\n",
    "        \n",
    "    model.add(LSTM(32, input_shape=(layers[1], layers[0]), return_sequences=True))\n",
    "    model.add(Dropout(d))\n",
    "    \n",
    "    model.add(Flatten())\n",
    "     \n",
    "    #output layer    \n",
    "    model.add(Dense(32,kernel_initializer=\"glorot_uniform\",activation='relu'))        \n",
    "    model.add(Dense(1,kernel_initializer=\"glorot_uniform\",activation='linear'))\n",
    "        \n",
    "    start = time.time()\n",
    "    model.compile(loss='mse',optimizer='adam', metrics=['accuracy'])\n",
    "    print(\"Compilation Time : \", time.time() - start)\n",
    "    return model"
   ]
  },
  {
   "cell_type": "code",
   "execution_count": 60,
   "metadata": {},
   "outputs": [
    {
     "name": "stdout",
     "output_type": "stream",
     "text": [
      "Compilation Time :  0.031039953231811523\n"
     ]
    }
   ],
   "source": [
    "model = build_model([5,window,1])"
   ]
  },
  {
   "cell_type": "code",
   "execution_count": 61,
   "metadata": {
    "scrolled": true
   },
   "outputs": [
    {
     "name": "stdout",
     "output_type": "stream",
     "text": [
      "Train on 1410 samples, validate on 157 samples\n",
      "Epoch 1/20\n",
      "1410/1410 [==============================] - 4s 3ms/step - loss: 0.1295 - acc: 0.0014 - val_loss: 0.0023 - val_acc: 0.0000e+00\n",
      "Epoch 2/20\n",
      "1410/1410 [==============================] - 1s 415us/step - loss: 0.0324 - acc: 0.0014 - val_loss: 0.0535 - val_acc: 0.0000e+00\n",
      "Epoch 3/20\n",
      "1410/1410 [==============================] - 1s 405us/step - loss: 0.0203 - acc: 0.0014 - val_loss: 0.0097 - val_acc: 0.0000e+00\n",
      "Epoch 4/20\n",
      "1410/1410 [==============================] - 1s 373us/step - loss: 0.0119 - acc: 0.0014 - val_loss: 0.0457 - val_acc: 0.0000e+00\n",
      "Epoch 5/20\n",
      "1410/1410 [==============================] - 1s 415us/step - loss: 0.0197 - acc: 0.0014 - val_loss: 0.0223 - val_acc: 0.0000e+00\n",
      "Epoch 6/20\n",
      "1410/1410 [==============================] - 1s 396us/step - loss: 0.0089 - acc: 0.0014 - val_loss: 0.0022 - val_acc: 0.0000e+00\n",
      "Epoch 7/20\n",
      "1410/1410 [==============================] - 1s 380us/step - loss: 0.0065 - acc: 0.0014 - val_loss: 0.0133 - val_acc: 0.0000e+00\n",
      "Epoch 8/20\n",
      "1410/1410 [==============================] - 1s 394us/step - loss: 0.0093 - acc: 0.0014 - val_loss: 0.0064 - val_acc: 0.0000e+00\n",
      "Epoch 9/20\n",
      "1410/1410 [==============================] - 1s 383us/step - loss: 0.0053 - acc: 0.0014 - val_loss: 0.0026 - val_acc: 0.0000e+00\n",
      "Epoch 10/20\n",
      "1410/1410 [==============================] - 1s 390us/step - loss: 0.0046 - acc: 0.0014 - val_loss: 0.0062 - val_acc: 0.0000e+00\n",
      "Epoch 11/20\n",
      "1410/1410 [==============================] - 1s 389us/step - loss: 0.0059 - acc: 0.0014 - val_loss: 0.0040 - val_acc: 0.0000e+00\n",
      "Epoch 12/20\n",
      "1410/1410 [==============================] - 1s 385us/step - loss: 0.0042 - acc: 0.0014 - val_loss: 0.0022 - val_acc: 0.0000e+00\n",
      "Epoch 13/20\n",
      "1410/1410 [==============================] - 1s 385us/step - loss: 0.0043 - acc: 0.0014 - val_loss: 0.0038 - val_acc: 0.0000e+00\n",
      "Epoch 14/20\n",
      "1410/1410 [==============================] - 1s 392us/step - loss: 0.0044 - acc: 0.0014 - val_loss: 0.0031 - val_acc: 0.0000e+00\n",
      "Epoch 15/20\n",
      "1410/1410 [==============================] - 1s 382us/step - loss: 0.0041 - acc: 0.0014 - val_loss: 0.0022 - val_acc: 0.0000e+00\n",
      "Epoch 16/20\n",
      "1410/1410 [==============================] - 1s 412us/step - loss: 0.0036 - acc: 0.0014 - val_loss: 0.0025 - val_acc: 0.0000e+00\n",
      "Epoch 17/20\n",
      "1410/1410 [==============================] - 1s 380us/step - loss: 0.0041 - acc: 0.0014 - val_loss: 0.0024 - val_acc: 0.0000e+00\n",
      "Epoch 18/20\n",
      "1410/1410 [==============================] - 1s 378us/step - loss: 0.0036 - acc: 0.0014 - val_loss: 0.0022 - val_acc: 0.0000e+00\n",
      "Epoch 19/20\n",
      "1410/1410 [==============================] - 1s 395us/step - loss: 0.0037 - acc: 0.0014 - val_loss: 0.0024 - val_acc: 0.0000e+00\n",
      "Epoch 20/20\n",
      "1410/1410 [==============================] - 1s 402us/step - loss: 0.0036 - acc: 0.0014 - val_loss: 0.0023 - val_acc: 0.0000e+00\n"
     ]
    },
    {
     "data": {
      "text/plain": [
       "<keras.callbacks.History at 0x1f6a92ac320>"
      ]
     },
     "execution_count": 61,
     "metadata": {},
     "output_type": "execute_result"
    }
   ],
   "source": [
    "model.fit(X_train,y_train,batch_size=512,epochs=20,validation_split=0.1,verbose=1)"
   ]
  },
  {
   "cell_type": "code",
   "execution_count": 62,
   "metadata": {},
   "outputs": [
    {
     "name": "stdout",
     "output_type": "stream",
     "text": [
      "Train Score: 0.00131 MSE (0.04 RMSE)\n",
      "Test Score: 0.00249 MSE (0.05 RMSE)\n"
     ]
    },
    {
     "data": {
      "text/plain": [
       "(0.0013080054684066651, 0.0024930840885352299)"
      ]
     },
     "execution_count": 62,
     "metadata": {},
     "output_type": "execute_result"
    }
   ],
   "source": [
    "def model_score(model, X_train, y_train, X_test, y_test):\n",
    "    trainScore = model.evaluate(X_train, y_train, verbose=0)\n",
    "    print('Train Score: %.5f MSE (%.2f RMSE)' % (trainScore[0], math.sqrt(trainScore[0])))\n",
    "\n",
    "    testScore = model.evaluate(X_test, y_test, verbose=0)\n",
    "    print('Test Score: %.5f MSE (%.2f RMSE)' % (testScore[0], math.sqrt(testScore[0])))\n",
    "    return trainScore[0], testScore[0]\n",
    "\n",
    "model_score(model, X_train, y_train, X_test, y_test)"
   ]
  },
  {
   "cell_type": "markdown",
   "metadata": {},
   "source": [
    "### Result:\n",
    "The mse for test and train score decreases in case of Gaussian while it increases in case of Xavier Glorot."
   ]
  },
  {
   "cell_type": "markdown",
   "metadata": {},
   "source": [
    "### References:\n",
    "- https://www.kaggle.com/benjibb/lstm-stock-prediction-20170507\n",
    "- https://machinelearningmastery.com/improve-deep-learning-performance/\n",
    "- https://machinelearningmastery.com/reshape-input-data-long-short-term-memory-networks-keras/"
   ]
  }
 ],
 "metadata": {
  "kernelspec": {
   "display_name": "Python 3",
   "language": "python",
   "name": "python3"
  },
  "language_info": {
   "codemirror_mode": {
    "name": "ipython",
    "version": 3
   },
   "file_extension": ".py",
   "mimetype": "text/x-python",
   "name": "python",
   "nbconvert_exporter": "python",
   "pygments_lexer": "ipython3",
   "version": "3.6.3"
  }
 },
 "nbformat": 4,
 "nbformat_minor": 2
}
